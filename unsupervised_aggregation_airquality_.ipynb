{
 "cells": [
  {
   "cell_type": "code",
   "execution_count": 332,
   "id": "5d6650d2",
   "metadata": {
    "execution": {
     "iopub.execute_input": "2022-11-19T12:30:08.068243Z",
     "iopub.status.busy": "2022-11-19T12:30:08.067415Z",
     "iopub.status.idle": "2022-11-19T12:30:08.071785Z",
     "shell.execute_reply": "2022-11-19T12:30:08.071237Z",
     "shell.execute_reply.started": "2022-11-19T12:30:08.068201Z"
    },
    "tags": []
   },
   "outputs": [],
   "source": [
    "import pandas as pd\n",
    "pd.options.display.max_columns = None\n",
    "import numpy as np\n",
    "from scipy.stats import spearmanr"
   ]
  },
  {
   "cell_type": "code",
   "execution_count": 333,
   "id": "05068ec2-94c4-4046-b71e-e17d1a88438f",
   "metadata": {
    "execution": {
     "iopub.execute_input": "2022-11-19T12:30:08.291026Z",
     "iopub.status.busy": "2022-11-19T12:30:08.290828Z",
     "iopub.status.idle": "2022-11-19T12:30:08.295656Z",
     "shell.execute_reply": "2022-11-19T12:30:08.295077Z",
     "shell.execute_reply.started": "2022-11-19T12:30:08.291005Z"
    },
    "tags": []
   },
   "outputs": [],
   "source": [
    "\n",
    "def ecdf_mv(data1,direction):\n",
    "    \n",
    "    ecdf = []\n",
    "    if direction == 'positive':\n",
    "        \n",
    "        for row in data1:\n",
    "           \n",
    "            ecdf.append((row>=data1).all(1).mean())\n",
    "        \n",
    "    elif direction == 'negative':\n",
    "        \n",
    "        for row in data1:\n",
    "            ecdf.append((row<=data1).all(1).mean())\n",
    "    return np.asarray(ecdf)\n",
    "\n",
    "\n",
    "# np.random.seed(0)\n",
    "# data1 = np.random.randint(0, 1000, size=(1000, 5))\n",
    "# test=ecdf_mv(data1,'positive')"
   ]
  },
  {
   "cell_type": "code",
   "execution_count": 462,
   "id": "d775d92f",
   "metadata": {
    "execution": {
     "iopub.execute_input": "2022-11-19T12:36:25.066569Z",
     "iopub.status.busy": "2022-11-19T12:36:25.065739Z",
     "iopub.status.idle": "2022-11-19T12:36:25.131311Z",
     "shell.execute_reply": "2022-11-19T12:36:25.130632Z",
     "shell.execute_reply.started": "2022-11-19T12:36:25.066535Z"
    },
    "tags": []
   },
   "outputs": [],
   "source": [
    "data = pd.read_csv('PRSA_Data_Wanshouxigong_20130301-20170228.csv').iloc[:,5:-1]\n",
    "#data=data.sample(n=9000).reset_index(drop=True)"
   ]
  },
  {
   "cell_type": "code",
   "execution_count": 463,
   "id": "99879471",
   "metadata": {
    "execution": {
     "iopub.execute_input": "2022-11-19T12:36:25.132777Z",
     "iopub.status.busy": "2022-11-19T12:36:25.132553Z",
     "iopub.status.idle": "2022-11-19T12:36:25.137380Z",
     "shell.execute_reply": "2022-11-19T12:36:25.136894Z",
     "shell.execute_reply.started": "2022-11-19T12:36:25.132752Z"
    },
    "tags": []
   },
   "outputs": [
    {
     "data": {
      "text/plain": [
       "(35064, 12)"
      ]
     },
     "execution_count": 463,
     "metadata": {},
     "output_type": "execute_result"
    }
   ],
   "source": [
    "data.shape"
   ]
  },
  {
   "cell_type": "code",
   "execution_count": 464,
   "id": "811f9c61",
   "metadata": {
    "execution": {
     "iopub.execute_input": "2022-11-19T12:36:25.184238Z",
     "iopub.status.busy": "2022-11-19T12:36:25.184068Z",
     "iopub.status.idle": "2022-11-19T12:36:25.196241Z",
     "shell.execute_reply": "2022-11-19T12:36:25.195718Z",
     "shell.execute_reply.started": "2022-11-19T12:36:25.184217Z"
    },
    "tags": []
   },
   "outputs": [],
   "source": [
    "data=data[~data['PM10'].isnull()].reset_index(drop=True)\n",
    "data=data[~data['PM2.5'].isnull()].reset_index(drop=True)\n",
    "data.drop(columns=['wd'],inplace=True)\n",
    "data.drop(columns=['PM10'],inplace=True)"
   ]
  },
  {
   "cell_type": "code",
   "execution_count": 465,
   "id": "8b3cff7e",
   "metadata": {
    "execution": {
     "iopub.execute_input": "2022-11-19T12:36:25.271690Z",
     "iopub.status.busy": "2022-11-19T12:36:25.271094Z",
     "iopub.status.idle": "2022-11-19T12:36:25.276592Z",
     "shell.execute_reply": "2022-11-19T12:36:25.276102Z",
     "shell.execute_reply.started": "2022-11-19T12:36:25.271664Z"
    },
    "tags": []
   },
   "outputs": [
    {
     "data": {
      "text/plain": [
       "(823.0, 3.0)"
      ]
     },
     "execution_count": 465,
     "metadata": {},
     "output_type": "execute_result"
    }
   ],
   "source": [
    "data['PM2.5'].max(),data['PM2.5'].min()"
   ]
  },
  {
   "cell_type": "code",
   "execution_count": 466,
   "id": "c8ddb2a3",
   "metadata": {
    "execution": {
     "iopub.execute_input": "2022-11-19T12:36:25.367239Z",
     "iopub.status.busy": "2022-11-19T12:36:25.367060Z",
     "iopub.status.idle": "2022-11-19T12:36:25.371022Z",
     "shell.execute_reply": "2022-11-19T12:36:25.370482Z",
     "shell.execute_reply.started": "2022-11-19T12:36:25.367217Z"
    },
    "tags": []
   },
   "outputs": [],
   "source": [
    "data=data.fillna(0)"
   ]
  },
  {
   "cell_type": "code",
   "execution_count": 467,
   "id": "c7894f66",
   "metadata": {
    "execution": {
     "iopub.execute_input": "2022-11-19T12:36:25.469180Z",
     "iopub.status.busy": "2022-11-19T12:36:25.468998Z",
     "iopub.status.idle": "2022-11-19T12:36:25.486835Z",
     "shell.execute_reply": "2022-11-19T12:36:25.486343Z",
     "shell.execute_reply.started": "2022-11-19T12:36:25.469159Z"
    },
    "tags": []
   },
   "outputs": [
    {
     "data": {
      "text/html": [
       "<div>\n",
       "<style scoped>\n",
       "    .dataframe tbody tr th:only-of-type {\n",
       "        vertical-align: middle;\n",
       "    }\n",
       "\n",
       "    .dataframe tbody tr th {\n",
       "        vertical-align: top;\n",
       "    }\n",
       "\n",
       "    .dataframe thead th {\n",
       "        text-align: right;\n",
       "    }\n",
       "</style>\n",
       "<table border=\"1\" class=\"dataframe\">\n",
       "  <thead>\n",
       "    <tr style=\"text-align: right;\">\n",
       "      <th></th>\n",
       "      <th>PM2.5</th>\n",
       "      <th>SO2</th>\n",
       "      <th>NO2</th>\n",
       "      <th>CO</th>\n",
       "      <th>O3</th>\n",
       "      <th>TEMP</th>\n",
       "      <th>PRES</th>\n",
       "      <th>DEWP</th>\n",
       "      <th>RAIN</th>\n",
       "      <th>WSPM</th>\n",
       "    </tr>\n",
       "  </thead>\n",
       "  <tbody>\n",
       "    <tr>\n",
       "      <th>0</th>\n",
       "      <td>9.0</td>\n",
       "      <td>6.0</td>\n",
       "      <td>17.0</td>\n",
       "      <td>200.0</td>\n",
       "      <td>62.0</td>\n",
       "      <td>0.3</td>\n",
       "      <td>1021.9</td>\n",
       "      <td>-19.0</td>\n",
       "      <td>0.0</td>\n",
       "      <td>2.0</td>\n",
       "    </tr>\n",
       "    <tr>\n",
       "      <th>1</th>\n",
       "      <td>11.0</td>\n",
       "      <td>7.0</td>\n",
       "      <td>14.0</td>\n",
       "      <td>200.0</td>\n",
       "      <td>66.0</td>\n",
       "      <td>-0.1</td>\n",
       "      <td>1022.4</td>\n",
       "      <td>-19.3</td>\n",
       "      <td>0.0</td>\n",
       "      <td>4.4</td>\n",
       "    </tr>\n",
       "    <tr>\n",
       "      <th>2</th>\n",
       "      <td>8.0</td>\n",
       "      <td>0.0</td>\n",
       "      <td>16.0</td>\n",
       "      <td>200.0</td>\n",
       "      <td>59.0</td>\n",
       "      <td>-0.6</td>\n",
       "      <td>1022.6</td>\n",
       "      <td>-19.7</td>\n",
       "      <td>0.0</td>\n",
       "      <td>4.7</td>\n",
       "    </tr>\n",
       "    <tr>\n",
       "      <th>3</th>\n",
       "      <td>8.0</td>\n",
       "      <td>3.0</td>\n",
       "      <td>16.0</td>\n",
       "      <td>0.0</td>\n",
       "      <td>0.0</td>\n",
       "      <td>-0.7</td>\n",
       "      <td>1023.5</td>\n",
       "      <td>-20.9</td>\n",
       "      <td>0.0</td>\n",
       "      <td>2.6</td>\n",
       "    </tr>\n",
       "    <tr>\n",
       "      <th>4</th>\n",
       "      <td>8.0</td>\n",
       "      <td>3.0</td>\n",
       "      <td>0.0</td>\n",
       "      <td>300.0</td>\n",
       "      <td>36.0</td>\n",
       "      <td>-0.9</td>\n",
       "      <td>1024.1</td>\n",
       "      <td>-21.7</td>\n",
       "      <td>0.0</td>\n",
       "      <td>2.5</td>\n",
       "    </tr>\n",
       "    <tr>\n",
       "      <th>5</th>\n",
       "      <td>10.0</td>\n",
       "      <td>4.0</td>\n",
       "      <td>8.0</td>\n",
       "      <td>200.0</td>\n",
       "      <td>64.0</td>\n",
       "      <td>-1.6</td>\n",
       "      <td>1024.7</td>\n",
       "      <td>-21.1</td>\n",
       "      <td>0.0</td>\n",
       "      <td>2.0</td>\n",
       "    </tr>\n",
       "    <tr>\n",
       "      <th>6</th>\n",
       "      <td>8.0</td>\n",
       "      <td>6.0</td>\n",
       "      <td>13.0</td>\n",
       "      <td>300.0</td>\n",
       "      <td>61.0</td>\n",
       "      <td>-2.4</td>\n",
       "      <td>1025.4</td>\n",
       "      <td>-20.3</td>\n",
       "      <td>0.0</td>\n",
       "      <td>2.3</td>\n",
       "    </tr>\n",
       "    <tr>\n",
       "      <th>7</th>\n",
       "      <td>8.0</td>\n",
       "      <td>8.0</td>\n",
       "      <td>20.0</td>\n",
       "      <td>300.0</td>\n",
       "      <td>54.0</td>\n",
       "      <td>-0.8</td>\n",
       "      <td>1026.7</td>\n",
       "      <td>-19.9</td>\n",
       "      <td>0.0</td>\n",
       "      <td>2.0</td>\n",
       "    </tr>\n",
       "    <tr>\n",
       "      <th>8</th>\n",
       "      <td>3.0</td>\n",
       "      <td>9.0</td>\n",
       "      <td>23.0</td>\n",
       "      <td>300.0</td>\n",
       "      <td>50.0</td>\n",
       "      <td>0.4</td>\n",
       "      <td>1027.3</td>\n",
       "      <td>-19.4</td>\n",
       "      <td>0.0</td>\n",
       "      <td>2.7</td>\n",
       "    </tr>\n",
       "    <tr>\n",
       "      <th>9</th>\n",
       "      <td>3.0</td>\n",
       "      <td>10.0</td>\n",
       "      <td>18.0</td>\n",
       "      <td>300.0</td>\n",
       "      <td>56.0</td>\n",
       "      <td>1.5</td>\n",
       "      <td>1027.4</td>\n",
       "      <td>-19.7</td>\n",
       "      <td>0.0</td>\n",
       "      <td>2.9</td>\n",
       "    </tr>\n",
       "  </tbody>\n",
       "</table>\n",
       "</div>"
      ],
      "text/plain": [
       "   PM2.5   SO2   NO2     CO    O3  TEMP    PRES  DEWP  RAIN  WSPM\n",
       "0    9.0   6.0  17.0  200.0  62.0   0.3  1021.9 -19.0   0.0   2.0\n",
       "1   11.0   7.0  14.0  200.0  66.0  -0.1  1022.4 -19.3   0.0   4.4\n",
       "2    8.0   0.0  16.0  200.0  59.0  -0.6  1022.6 -19.7   0.0   4.7\n",
       "3    8.0   3.0  16.0    0.0   0.0  -0.7  1023.5 -20.9   0.0   2.6\n",
       "4    8.0   3.0   0.0  300.0  36.0  -0.9  1024.1 -21.7   0.0   2.5\n",
       "5   10.0   4.0   8.0  200.0  64.0  -1.6  1024.7 -21.1   0.0   2.0\n",
       "6    8.0   6.0  13.0  300.0  61.0  -2.4  1025.4 -20.3   0.0   2.3\n",
       "7    8.0   8.0  20.0  300.0  54.0  -0.8  1026.7 -19.9   0.0   2.0\n",
       "8    3.0   9.0  23.0  300.0  50.0   0.4  1027.3 -19.4   0.0   2.7\n",
       "9    3.0  10.0  18.0  300.0  56.0   1.5  1027.4 -19.7   0.0   2.9"
      ]
     },
     "execution_count": 467,
     "metadata": {},
     "output_type": "execute_result"
    }
   ],
   "source": [
    "data.head(10)"
   ]
  },
  {
   "cell_type": "code",
   "execution_count": 468,
   "id": "ecca0832",
   "metadata": {
    "execution": {
     "iopub.execute_input": "2022-11-19T12:36:25.553225Z",
     "iopub.status.busy": "2022-11-19T12:36:25.552646Z",
     "iopub.status.idle": "2022-11-19T12:36:25.556752Z",
     "shell.execute_reply": "2022-11-19T12:36:25.556283Z",
     "shell.execute_reply.started": "2022-11-19T12:36:25.553200Z"
    },
    "tags": []
   },
   "outputs": [
    {
     "data": {
      "text/plain": [
       "(34351, 10)"
      ]
     },
     "execution_count": 468,
     "metadata": {},
     "output_type": "execute_result"
    }
   ],
   "source": [
    "data.shape"
   ]
  },
  {
   "cell_type": "code",
   "execution_count": 469,
   "id": "03bb817e",
   "metadata": {
    "execution": {
     "iopub.execute_input": "2022-11-19T12:36:26.069433Z",
     "iopub.status.busy": "2022-11-19T12:36:26.068848Z",
     "iopub.status.idle": "2022-11-19T12:36:26.114708Z",
     "shell.execute_reply": "2022-11-19T12:36:26.113973Z",
     "shell.execute_reply.started": "2022-11-19T12:36:26.069402Z"
    },
    "tags": []
   },
   "outputs": [
    {
     "data": {
      "text/html": [
       "<div>\n",
       "<style scoped>\n",
       "    .dataframe tbody tr th:only-of-type {\n",
       "        vertical-align: middle;\n",
       "    }\n",
       "\n",
       "    .dataframe tbody tr th {\n",
       "        vertical-align: top;\n",
       "    }\n",
       "\n",
       "    .dataframe thead th {\n",
       "        text-align: right;\n",
       "    }\n",
       "</style>\n",
       "<table border=\"1\" class=\"dataframe\">\n",
       "  <thead>\n",
       "    <tr style=\"text-align: right;\">\n",
       "      <th></th>\n",
       "      <th>PM2.5</th>\n",
       "      <th>SO2</th>\n",
       "      <th>NO2</th>\n",
       "      <th>CO</th>\n",
       "      <th>O3</th>\n",
       "      <th>TEMP</th>\n",
       "      <th>PRES</th>\n",
       "      <th>DEWP</th>\n",
       "      <th>RAIN</th>\n",
       "      <th>WSPM</th>\n",
       "    </tr>\n",
       "  </thead>\n",
       "  <tbody>\n",
       "    <tr>\n",
       "      <th>count</th>\n",
       "      <td>34351.000000</td>\n",
       "      <td>34351.000000</td>\n",
       "      <td>34351.000000</td>\n",
       "      <td>34351.000000</td>\n",
       "      <td>34351.000000</td>\n",
       "      <td>34351.000000</td>\n",
       "      <td>34351.000000</td>\n",
       "      <td>34351.000000</td>\n",
       "      <td>34351.000000</td>\n",
       "      <td>34351.000000</td>\n",
       "    </tr>\n",
       "    <tr>\n",
       "      <th>mean</th>\n",
       "      <td>84.926712</td>\n",
       "      <td>17.029612</td>\n",
       "      <td>55.087573</td>\n",
       "      <td>1337.889232</td>\n",
       "      <td>54.944510</td>\n",
       "      <td>13.724470</td>\n",
       "      <td>1010.978015</td>\n",
       "      <td>2.679928</td>\n",
       "      <td>0.063986</td>\n",
       "      <td>1.742042</td>\n",
       "    </tr>\n",
       "    <tr>\n",
       "      <th>std</th>\n",
       "      <td>85.620395</td>\n",
       "      <td>23.735404</td>\n",
       "      <td>36.043605</td>\n",
       "      <td>1227.842361</td>\n",
       "      <td>57.011396</td>\n",
       "      <td>11.378189</td>\n",
       "      <td>26.025324</td>\n",
       "      <td>13.725947</td>\n",
       "      <td>0.782399</td>\n",
       "      <td>1.204184</td>\n",
       "    </tr>\n",
       "    <tr>\n",
       "      <th>min</th>\n",
       "      <td>3.000000</td>\n",
       "      <td>0.000000</td>\n",
       "      <td>0.000000</td>\n",
       "      <td>0.000000</td>\n",
       "      <td>0.000000</td>\n",
       "      <td>-16.800000</td>\n",
       "      <td>0.000000</td>\n",
       "      <td>-35.300000</td>\n",
       "      <td>0.000000</td>\n",
       "      <td>0.000000</td>\n",
       "    </tr>\n",
       "    <tr>\n",
       "      <th>25%</th>\n",
       "      <td>23.000000</td>\n",
       "      <td>2.000000</td>\n",
       "      <td>27.000000</td>\n",
       "      <td>600.000000</td>\n",
       "      <td>7.000000</td>\n",
       "      <td>3.400000</td>\n",
       "      <td>1002.900000</td>\n",
       "      <td>-8.500000</td>\n",
       "      <td>0.000000</td>\n",
       "      <td>0.900000</td>\n",
       "    </tr>\n",
       "    <tr>\n",
       "      <th>50%</th>\n",
       "      <td>60.000000</td>\n",
       "      <td>7.140000</td>\n",
       "      <td>48.000000</td>\n",
       "      <td>1000.000000</td>\n",
       "      <td>41.000000</td>\n",
       "      <td>14.700000</td>\n",
       "      <td>1011.000000</td>\n",
       "      <td>3.300000</td>\n",
       "      <td>0.000000</td>\n",
       "      <td>1.400000</td>\n",
       "    </tr>\n",
       "    <tr>\n",
       "      <th>75%</th>\n",
       "      <td>116.000000</td>\n",
       "      <td>21.000000</td>\n",
       "      <td>77.000000</td>\n",
       "      <td>1700.000000</td>\n",
       "      <td>81.000000</td>\n",
       "      <td>23.400000</td>\n",
       "      <td>1020.000000</td>\n",
       "      <td>15.300000</td>\n",
       "      <td>0.000000</td>\n",
       "      <td>2.300000</td>\n",
       "    </tr>\n",
       "    <tr>\n",
       "      <th>max</th>\n",
       "      <td>823.000000</td>\n",
       "      <td>273.000000</td>\n",
       "      <td>251.000000</td>\n",
       "      <td>9800.000000</td>\n",
       "      <td>358.000000</td>\n",
       "      <td>40.600000</td>\n",
       "      <td>1042.000000</td>\n",
       "      <td>28.500000</td>\n",
       "      <td>46.400000</td>\n",
       "      <td>13.200000</td>\n",
       "    </tr>\n",
       "  </tbody>\n",
       "</table>\n",
       "</div>"
      ],
      "text/plain": [
       "              PM2.5           SO2           NO2            CO            O3  \\\n",
       "count  34351.000000  34351.000000  34351.000000  34351.000000  34351.000000   \n",
       "mean      84.926712     17.029612     55.087573   1337.889232     54.944510   \n",
       "std       85.620395     23.735404     36.043605   1227.842361     57.011396   \n",
       "min        3.000000      0.000000      0.000000      0.000000      0.000000   \n",
       "25%       23.000000      2.000000     27.000000    600.000000      7.000000   \n",
       "50%       60.000000      7.140000     48.000000   1000.000000     41.000000   \n",
       "75%      116.000000     21.000000     77.000000   1700.000000     81.000000   \n",
       "max      823.000000    273.000000    251.000000   9800.000000    358.000000   \n",
       "\n",
       "               TEMP          PRES          DEWP          RAIN          WSPM  \n",
       "count  34351.000000  34351.000000  34351.000000  34351.000000  34351.000000  \n",
       "mean      13.724470   1010.978015      2.679928      0.063986      1.742042  \n",
       "std       11.378189     26.025324     13.725947      0.782399      1.204184  \n",
       "min      -16.800000      0.000000    -35.300000      0.000000      0.000000  \n",
       "25%        3.400000   1002.900000     -8.500000      0.000000      0.900000  \n",
       "50%       14.700000   1011.000000      3.300000      0.000000      1.400000  \n",
       "75%       23.400000   1020.000000     15.300000      0.000000      2.300000  \n",
       "max       40.600000   1042.000000     28.500000     46.400000     13.200000  "
      ]
     },
     "execution_count": 469,
     "metadata": {},
     "output_type": "execute_result"
    }
   ],
   "source": [
    "data.describe()"
   ]
  },
  {
   "cell_type": "code",
   "execution_count": 470,
   "id": "a8b685a9",
   "metadata": {
    "execution": {
     "iopub.execute_input": "2022-11-19T12:36:26.116145Z",
     "iopub.status.busy": "2022-11-19T12:36:26.115966Z",
     "iopub.status.idle": "2022-11-19T12:36:26.119496Z",
     "shell.execute_reply": "2022-11-19T12:36:26.118997Z",
     "shell.execute_reply.started": "2022-11-19T12:36:26.116124Z"
    },
    "tags": []
   },
   "outputs": [],
   "source": [
    "feature_list = ['SO2', 'NO2', 'CO', 'O3','TEMP', 'PRES', 'DEWP', 'RAIN','WSPM']\n",
    "target = 'PM2.5'\n"
   ]
  },
  {
   "cell_type": "code",
   "execution_count": 471,
   "id": "146ca543",
   "metadata": {
    "execution": {
     "iopub.execute_input": "2022-11-19T12:36:26.147610Z",
     "iopub.status.busy": "2022-11-19T12:36:26.147446Z",
     "iopub.status.idle": "2022-11-19T12:36:26.163217Z",
     "shell.execute_reply": "2022-11-19T12:36:26.162711Z",
     "shell.execute_reply.started": "2022-11-19T12:36:26.147590Z"
    },
    "tags": []
   },
   "outputs": [],
   "source": [
    "corr_df=data[feature_list+[target]].corr()"
   ]
  },
  {
   "cell_type": "code",
   "execution_count": 472,
   "id": "2b9fd4ea",
   "metadata": {
    "execution": {
     "iopub.execute_input": "2022-11-19T12:36:26.164589Z",
     "iopub.status.busy": "2022-11-19T12:36:26.164425Z",
     "iopub.status.idle": "2022-11-19T12:36:26.182595Z",
     "shell.execute_reply": "2022-11-19T12:36:26.182086Z",
     "shell.execute_reply.started": "2022-11-19T12:36:26.164571Z"
    },
    "tags": []
   },
   "outputs": [],
   "source": [
    "pos_dir_var=[]\n",
    "neg_dir_var=[]\n",
    "for k,v in dict(corr_df.loc[target]).items():\n",
    "    if v>0 and k!=target:\n",
    "        pos_dir_var.append(k)\n",
    "    else:\n",
    "        if k!=target:\n",
    "            neg_dir_var.append(k)\n",
    "        \n",
    "        "
   ]
  },
  {
   "cell_type": "code",
   "execution_count": 473,
   "id": "fbc49fc0",
   "metadata": {
    "execution": {
     "iopub.execute_input": "2022-11-19T12:36:26.210254Z",
     "iopub.status.busy": "2022-11-19T12:36:26.210052Z",
     "iopub.status.idle": "2022-11-19T12:36:26.221555Z",
     "shell.execute_reply": "2022-11-19T12:36:26.221086Z",
     "shell.execute_reply.started": "2022-11-19T12:36:26.210232Z"
    },
    "tags": []
   },
   "outputs": [
    {
     "name": "stdout",
     "output_type": "stream",
     "text": [
      "['SO2', 'NO2', 'CO', 'PRES', 'DEWP'] ['O3', 'TEMP', 'RAIN', 'WSPM']\n"
     ]
    }
   ],
   "source": [
    "print(pos_dir_var ,neg_dir_var)\n",
    " \n"
   ]
  },
  {
   "cell_type": "code",
   "execution_count": 474,
   "id": "f6c119bf",
   "metadata": {
    "execution": {
     "iopub.execute_input": "2022-11-19T12:36:26.222440Z",
     "iopub.status.busy": "2022-11-19T12:36:26.222263Z",
     "iopub.status.idle": "2022-11-19T12:36:26.258670Z",
     "shell.execute_reply": "2022-11-19T12:36:26.258099Z",
     "shell.execute_reply.started": "2022-11-19T12:36:26.222420Z"
    },
    "tags": []
   },
   "outputs": [
    {
     "data": {
      "text/html": [
       "<div>\n",
       "<style scoped>\n",
       "    .dataframe tbody tr th:only-of-type {\n",
       "        vertical-align: middle;\n",
       "    }\n",
       "\n",
       "    .dataframe tbody tr th {\n",
       "        vertical-align: top;\n",
       "    }\n",
       "\n",
       "    .dataframe thead th {\n",
       "        text-align: right;\n",
       "    }\n",
       "</style>\n",
       "<table border=\"1\" class=\"dataframe\">\n",
       "  <thead>\n",
       "    <tr style=\"text-align: right;\">\n",
       "      <th></th>\n",
       "      <th>PM2.5</th>\n",
       "      <th>SO2</th>\n",
       "      <th>NO2</th>\n",
       "      <th>CO</th>\n",
       "      <th>O3</th>\n",
       "      <th>TEMP</th>\n",
       "      <th>PRES</th>\n",
       "      <th>DEWP</th>\n",
       "      <th>RAIN</th>\n",
       "      <th>WSPM</th>\n",
       "    </tr>\n",
       "  </thead>\n",
       "  <tbody>\n",
       "    <tr>\n",
       "      <th>0</th>\n",
       "      <td>9.0</td>\n",
       "      <td>6.0</td>\n",
       "      <td>17.0</td>\n",
       "      <td>200.0</td>\n",
       "      <td>62.0</td>\n",
       "      <td>0.3</td>\n",
       "      <td>1021.9</td>\n",
       "      <td>-19.0</td>\n",
       "      <td>0.0</td>\n",
       "      <td>2.0</td>\n",
       "    </tr>\n",
       "    <tr>\n",
       "      <th>1</th>\n",
       "      <td>11.0</td>\n",
       "      <td>7.0</td>\n",
       "      <td>14.0</td>\n",
       "      <td>200.0</td>\n",
       "      <td>66.0</td>\n",
       "      <td>-0.1</td>\n",
       "      <td>1022.4</td>\n",
       "      <td>-19.3</td>\n",
       "      <td>0.0</td>\n",
       "      <td>4.4</td>\n",
       "    </tr>\n",
       "    <tr>\n",
       "      <th>2</th>\n",
       "      <td>8.0</td>\n",
       "      <td>0.0</td>\n",
       "      <td>16.0</td>\n",
       "      <td>200.0</td>\n",
       "      <td>59.0</td>\n",
       "      <td>-0.6</td>\n",
       "      <td>1022.6</td>\n",
       "      <td>-19.7</td>\n",
       "      <td>0.0</td>\n",
       "      <td>4.7</td>\n",
       "    </tr>\n",
       "    <tr>\n",
       "      <th>3</th>\n",
       "      <td>8.0</td>\n",
       "      <td>3.0</td>\n",
       "      <td>16.0</td>\n",
       "      <td>0.0</td>\n",
       "      <td>0.0</td>\n",
       "      <td>-0.7</td>\n",
       "      <td>1023.5</td>\n",
       "      <td>-20.9</td>\n",
       "      <td>0.0</td>\n",
       "      <td>2.6</td>\n",
       "    </tr>\n",
       "    <tr>\n",
       "      <th>4</th>\n",
       "      <td>8.0</td>\n",
       "      <td>3.0</td>\n",
       "      <td>0.0</td>\n",
       "      <td>300.0</td>\n",
       "      <td>36.0</td>\n",
       "      <td>-0.9</td>\n",
       "      <td>1024.1</td>\n",
       "      <td>-21.7</td>\n",
       "      <td>0.0</td>\n",
       "      <td>2.5</td>\n",
       "    </tr>\n",
       "  </tbody>\n",
       "</table>\n",
       "</div>"
      ],
      "text/plain": [
       "   PM2.5  SO2   NO2     CO    O3  TEMP    PRES  DEWP  RAIN  WSPM\n",
       "0    9.0  6.0  17.0  200.0  62.0   0.3  1021.9 -19.0   0.0   2.0\n",
       "1   11.0  7.0  14.0  200.0  66.0  -0.1  1022.4 -19.3   0.0   4.4\n",
       "2    8.0  0.0  16.0  200.0  59.0  -0.6  1022.6 -19.7   0.0   4.7\n",
       "3    8.0  3.0  16.0    0.0   0.0  -0.7  1023.5 -20.9   0.0   2.6\n",
       "4    8.0  3.0   0.0  300.0  36.0  -0.9  1024.1 -21.7   0.0   2.5"
      ]
     },
     "execution_count": 474,
     "metadata": {},
     "output_type": "execute_result"
    }
   ],
   "source": [
    "data.head()"
   ]
  },
  {
   "cell_type": "code",
   "execution_count": 475,
   "id": "34531bd8-d986-4baa-8dcf-7a87a559d9d6",
   "metadata": {
    "execution": {
     "iopub.execute_input": "2022-11-19T12:36:26.259617Z",
     "iopub.status.busy": "2022-11-19T12:36:26.259444Z",
     "iopub.status.idle": "2022-11-19T12:36:40.819093Z",
     "shell.execute_reply": "2022-11-19T12:36:40.818376Z",
     "shell.execute_reply.started": "2022-11-19T12:36:26.259597Z"
    },
    "tags": []
   },
   "outputs": [],
   "source": [
    "def normalisation(input_df,pos_dir_var,neg_dir_var):\n",
    "    \n",
    "    length = input_df.shape[0]\n",
    "    \n",
    "    normalised_pos_list = []\n",
    "    for i in pos_dir_var:\n",
    "        temp = ecdf_mv(input_df[i].values.reshape(length,1),'positive')\n",
    "        normalised_pos_list.append(list(temp))\n",
    "    pos_dir_df = pd.DataFrame(normalised_pos_list).transpose()\n",
    "    pos_dir_df.columns = pos_dir_var\n",
    "    \n",
    "    normalised_pos_list = []\n",
    "    for i in neg_dir_var:\n",
    "        temp = ecdf_mv(input_df[i].values.reshape(length,1),'negative')\n",
    "        normalised_pos_list.append(list(temp))\n",
    "    neg_dir_df = pd.DataFrame(normalised_pos_list).transpose()\n",
    "    neg_dir_df.columns = neg_dir_var\n",
    "    \n",
    "    normalised_df = pd.concat([pos_dir_df,neg_dir_df], axis=1)\n",
    "    #normalised_df[target]=input_df[target]\n",
    "    return normalised_df\n",
    "    \n",
    "normalised_df=normalisation(data,pos_dir_var,neg_dir_var)\n",
    "    "
   ]
  },
  {
   "cell_type": "code",
   "execution_count": 476,
   "id": "c5ded4f4-262e-4be4-9abe-741ce8cff27a",
   "metadata": {
    "execution": {
     "iopub.execute_input": "2022-11-19T12:36:40.820958Z",
     "iopub.status.busy": "2022-11-19T12:36:40.820779Z",
     "iopub.status.idle": "2022-11-19T12:36:40.833393Z",
     "shell.execute_reply": "2022-11-19T12:36:40.832881Z",
     "shell.execute_reply.started": "2022-11-19T12:36:40.820932Z"
    },
    "tags": []
   },
   "outputs": [
    {
     "data": {
      "text/html": [
       "<div>\n",
       "<style scoped>\n",
       "    .dataframe tbody tr th:only-of-type {\n",
       "        vertical-align: middle;\n",
       "    }\n",
       "\n",
       "    .dataframe tbody tr th {\n",
       "        vertical-align: top;\n",
       "    }\n",
       "\n",
       "    .dataframe thead th {\n",
       "        text-align: right;\n",
       "    }\n",
       "</style>\n",
       "<table border=\"1\" class=\"dataframe\">\n",
       "  <thead>\n",
       "    <tr style=\"text-align: right;\">\n",
       "      <th></th>\n",
       "      <th>SO2</th>\n",
       "      <th>NO2</th>\n",
       "      <th>CO</th>\n",
       "      <th>PRES</th>\n",
       "      <th>DEWP</th>\n",
       "      <th>O3</th>\n",
       "      <th>TEMP</th>\n",
       "      <th>RAIN</th>\n",
       "      <th>WSPM</th>\n",
       "    </tr>\n",
       "  </thead>\n",
       "  <tbody>\n",
       "    <tr>\n",
       "      <th>0</th>\n",
       "      <td>0.466246</td>\n",
       "      <td>0.132078</td>\n",
       "      <td>0.056621</td>\n",
       "      <td>0.796629</td>\n",
       "      <td>0.061134</td>\n",
       "      <td>0.358010</td>\n",
       "      <td>0.841780</td>\n",
       "      <td>1.0</td>\n",
       "      <td>0.322145</td>\n",
       "    </tr>\n",
       "    <tr>\n",
       "      <th>1</th>\n",
       "      <td>0.499985</td>\n",
       "      <td>0.099153</td>\n",
       "      <td>0.056621</td>\n",
       "      <td>0.812989</td>\n",
       "      <td>0.057087</td>\n",
       "      <td>0.333731</td>\n",
       "      <td>0.857355</td>\n",
       "      <td>1.0</td>\n",
       "      <td>0.042968</td>\n",
       "    </tr>\n",
       "    <tr>\n",
       "      <th>2</th>\n",
       "      <td>0.007045</td>\n",
       "      <td>0.120695</td>\n",
       "      <td>0.056621</td>\n",
       "      <td>0.817502</td>\n",
       "      <td>0.051876</td>\n",
       "      <td>0.377252</td>\n",
       "      <td>0.869727</td>\n",
       "      <td>1.0</td>\n",
       "      <td>0.032837</td>\n",
       "    </tr>\n",
       "    <tr>\n",
       "      <th>3</th>\n",
       "      <td>0.323892</td>\n",
       "      <td>0.120695</td>\n",
       "      <td>0.025385</td>\n",
       "      <td>0.840296</td>\n",
       "      <td>0.038281</td>\n",
       "      <td>1.000000</td>\n",
       "      <td>0.872755</td>\n",
       "      <td>1.0</td>\n",
       "      <td>0.194696</td>\n",
       "    </tr>\n",
       "    <tr>\n",
       "      <th>4</th>\n",
       "      <td>0.323892</td>\n",
       "      <td>0.009636</td>\n",
       "      <td>0.123927</td>\n",
       "      <td>0.857617</td>\n",
       "      <td>0.030829</td>\n",
       "      <td>0.533813</td>\n",
       "      <td>0.877471</td>\n",
       "      <td>1.0</td>\n",
       "      <td>0.211115</td>\n",
       "    </tr>\n",
       "  </tbody>\n",
       "</table>\n",
       "</div>"
      ],
      "text/plain": [
       "        SO2       NO2        CO      PRES      DEWP        O3      TEMP  RAIN  \\\n",
       "0  0.466246  0.132078  0.056621  0.796629  0.061134  0.358010  0.841780   1.0   \n",
       "1  0.499985  0.099153  0.056621  0.812989  0.057087  0.333731  0.857355   1.0   \n",
       "2  0.007045  0.120695  0.056621  0.817502  0.051876  0.377252  0.869727   1.0   \n",
       "3  0.323892  0.120695  0.025385  0.840296  0.038281  1.000000  0.872755   1.0   \n",
       "4  0.323892  0.009636  0.123927  0.857617  0.030829  0.533813  0.877471   1.0   \n",
       "\n",
       "       WSPM  \n",
       "0  0.322145  \n",
       "1  0.042968  \n",
       "2  0.032837  \n",
       "3  0.194696  \n",
       "4  0.211115  "
      ]
     },
     "execution_count": 476,
     "metadata": {},
     "output_type": "execute_result"
    }
   ],
   "source": [
    "normalised_df.head()"
   ]
  },
  {
   "cell_type": "code",
   "execution_count": 477,
   "id": "68f30fd3",
   "metadata": {
    "execution": {
     "iopub.execute_input": "2022-11-19T12:36:40.834488Z",
     "iopub.status.busy": "2022-11-19T12:36:40.834255Z",
     "iopub.status.idle": "2022-11-19T12:36:40.858774Z",
     "shell.execute_reply": "2022-11-19T12:36:40.858296Z",
     "shell.execute_reply.started": "2022-11-19T12:36:40.834463Z"
    },
    "tags": []
   },
   "outputs": [],
   "source": [
    "# data1=neg_dir_df['WSPM']\n",
    "# data2=input_['WSPM']\n",
    "# coef, p = spearmanr(data1, data2)\n",
    "# coef,p"
   ]
  },
  {
   "cell_type": "code",
   "execution_count": 478,
   "id": "80f6979b",
   "metadata": {
    "execution": {
     "iopub.execute_input": "2022-11-19T12:36:40.859609Z",
     "iopub.status.busy": "2022-11-19T12:36:40.859426Z",
     "iopub.status.idle": "2022-11-19T12:36:40.886245Z",
     "shell.execute_reply": "2022-11-19T12:36:40.885740Z",
     "shell.execute_reply.started": "2022-11-19T12:36:40.859591Z"
    },
    "tags": []
   },
   "outputs": [],
   "source": [
    "# data1=pos_dir_df['DEWP']\n",
    "# data2=input_['DEWP']\n",
    "# coef, p = spearmanr(data1, data2)\n",
    "# coef,p"
   ]
  },
  {
   "cell_type": "code",
   "execution_count": 479,
   "id": "7f829392",
   "metadata": {
    "execution": {
     "iopub.execute_input": "2022-11-19T12:36:40.887183Z",
     "iopub.status.busy": "2022-11-19T12:36:40.887009Z",
     "iopub.status.idle": "2022-11-19T12:36:40.920124Z",
     "shell.execute_reply": "2022-11-19T12:36:40.919657Z",
     "shell.execute_reply.started": "2022-11-19T12:36:40.887164Z"
    },
    "tags": []
   },
   "outputs": [
    {
     "data": {
      "text/html": [
       "<div>\n",
       "<style scoped>\n",
       "    .dataframe tbody tr th:only-of-type {\n",
       "        vertical-align: middle;\n",
       "    }\n",
       "\n",
       "    .dataframe tbody tr th {\n",
       "        vertical-align: top;\n",
       "    }\n",
       "\n",
       "    .dataframe thead th {\n",
       "        text-align: right;\n",
       "    }\n",
       "</style>\n",
       "<table border=\"1\" class=\"dataframe\">\n",
       "  <thead>\n",
       "    <tr style=\"text-align: right;\">\n",
       "      <th></th>\n",
       "      <th>SO2</th>\n",
       "      <th>NO2</th>\n",
       "      <th>CO</th>\n",
       "      <th>PRES</th>\n",
       "      <th>DEWP</th>\n",
       "      <th>O3</th>\n",
       "      <th>TEMP</th>\n",
       "      <th>RAIN</th>\n",
       "      <th>WSPM</th>\n",
       "    </tr>\n",
       "  </thead>\n",
       "  <tbody>\n",
       "    <tr>\n",
       "      <th>0</th>\n",
       "      <td>0.466246</td>\n",
       "      <td>0.132078</td>\n",
       "      <td>0.056621</td>\n",
       "      <td>0.796629</td>\n",
       "      <td>0.061134</td>\n",
       "      <td>0.358010</td>\n",
       "      <td>0.841780</td>\n",
       "      <td>1.0</td>\n",
       "      <td>0.322145</td>\n",
       "    </tr>\n",
       "    <tr>\n",
       "      <th>1</th>\n",
       "      <td>0.499985</td>\n",
       "      <td>0.099153</td>\n",
       "      <td>0.056621</td>\n",
       "      <td>0.812989</td>\n",
       "      <td>0.057087</td>\n",
       "      <td>0.333731</td>\n",
       "      <td>0.857355</td>\n",
       "      <td>1.0</td>\n",
       "      <td>0.042968</td>\n",
       "    </tr>\n",
       "    <tr>\n",
       "      <th>2</th>\n",
       "      <td>0.007045</td>\n",
       "      <td>0.120695</td>\n",
       "      <td>0.056621</td>\n",
       "      <td>0.817502</td>\n",
       "      <td>0.051876</td>\n",
       "      <td>0.377252</td>\n",
       "      <td>0.869727</td>\n",
       "      <td>1.0</td>\n",
       "      <td>0.032837</td>\n",
       "    </tr>\n",
       "    <tr>\n",
       "      <th>3</th>\n",
       "      <td>0.323892</td>\n",
       "      <td>0.120695</td>\n",
       "      <td>0.025385</td>\n",
       "      <td>0.840296</td>\n",
       "      <td>0.038281</td>\n",
       "      <td>1.000000</td>\n",
       "      <td>0.872755</td>\n",
       "      <td>1.0</td>\n",
       "      <td>0.194696</td>\n",
       "    </tr>\n",
       "    <tr>\n",
       "      <th>4</th>\n",
       "      <td>0.323892</td>\n",
       "      <td>0.009636</td>\n",
       "      <td>0.123927</td>\n",
       "      <td>0.857617</td>\n",
       "      <td>0.030829</td>\n",
       "      <td>0.533813</td>\n",
       "      <td>0.877471</td>\n",
       "      <td>1.0</td>\n",
       "      <td>0.211115</td>\n",
       "    </tr>\n",
       "  </tbody>\n",
       "</table>\n",
       "</div>"
      ],
      "text/plain": [
       "        SO2       NO2        CO      PRES      DEWP        O3      TEMP  RAIN  \\\n",
       "0  0.466246  0.132078  0.056621  0.796629  0.061134  0.358010  0.841780   1.0   \n",
       "1  0.499985  0.099153  0.056621  0.812989  0.057087  0.333731  0.857355   1.0   \n",
       "2  0.007045  0.120695  0.056621  0.817502  0.051876  0.377252  0.869727   1.0   \n",
       "3  0.323892  0.120695  0.025385  0.840296  0.038281  1.000000  0.872755   1.0   \n",
       "4  0.323892  0.009636  0.123927  0.857617  0.030829  0.533813  0.877471   1.0   \n",
       "\n",
       "       WSPM  \n",
       "0  0.322145  \n",
       "1  0.042968  \n",
       "2  0.032837  \n",
       "3  0.194696  \n",
       "4  0.211115  "
      ]
     },
     "execution_count": 479,
     "metadata": {},
     "output_type": "execute_result"
    }
   ],
   "source": [
    "normalised_df.head()"
   ]
  },
  {
   "cell_type": "code",
   "execution_count": 480,
   "id": "2566bcfd",
   "metadata": {
    "execution": {
     "iopub.execute_input": "2022-11-19T12:36:40.949612Z",
     "iopub.status.busy": "2022-11-19T12:36:40.949450Z",
     "iopub.status.idle": "2022-11-19T12:36:40.974284Z",
     "shell.execute_reply": "2022-11-19T12:36:40.973791Z",
     "shell.execute_reply.started": "2022-11-19T12:36:40.949593Z"
    },
    "tags": []
   },
   "outputs": [
    {
     "data": {
      "text/html": [
       "<div>\n",
       "<style scoped>\n",
       "    .dataframe tbody tr th:only-of-type {\n",
       "        vertical-align: middle;\n",
       "    }\n",
       "\n",
       "    .dataframe tbody tr th {\n",
       "        vertical-align: top;\n",
       "    }\n",
       "\n",
       "    .dataframe thead th {\n",
       "        text-align: right;\n",
       "    }\n",
       "</style>\n",
       "<table border=\"1\" class=\"dataframe\">\n",
       "  <thead>\n",
       "    <tr style=\"text-align: right;\">\n",
       "      <th></th>\n",
       "      <th>SO2</th>\n",
       "      <th>NO2</th>\n",
       "      <th>CO</th>\n",
       "      <th>PRES</th>\n",
       "      <th>DEWP</th>\n",
       "      <th>O3</th>\n",
       "      <th>TEMP</th>\n",
       "      <th>RAIN</th>\n",
       "      <th>WSPM</th>\n",
       "    </tr>\n",
       "  </thead>\n",
       "  <tbody>\n",
       "    <tr>\n",
       "      <th>SO2</th>\n",
       "      <td>100.000000</td>\n",
       "      <td>48.243810</td>\n",
       "      <td>55.622623</td>\n",
       "      <td>25.399652</td>\n",
       "      <td>-35.929847</td>\n",
       "      <td>20.157663</td>\n",
       "      <td>37.798617</td>\n",
       "      <td>14.959035</td>\n",
       "      <td>9.715085</td>\n",
       "    </tr>\n",
       "    <tr>\n",
       "      <th>NO2</th>\n",
       "      <td>48.243810</td>\n",
       "      <td>100.000000</td>\n",
       "      <td>73.509816</td>\n",
       "      <td>12.529143</td>\n",
       "      <td>0.448879</td>\n",
       "      <td>63.268170</td>\n",
       "      <td>27.980906</td>\n",
       "      <td>8.089121</td>\n",
       "      <td>53.694471</td>\n",
       "    </tr>\n",
       "    <tr>\n",
       "      <th>CO</th>\n",
       "      <td>55.622623</td>\n",
       "      <td>73.509816</td>\n",
       "      <td>100.000000</td>\n",
       "      <td>7.254304</td>\n",
       "      <td>10.595194</td>\n",
       "      <td>42.742570</td>\n",
       "      <td>21.207443</td>\n",
       "      <td>0.386078</td>\n",
       "      <td>43.224652</td>\n",
       "    </tr>\n",
       "    <tr>\n",
       "      <th>PRES</th>\n",
       "      <td>25.399652</td>\n",
       "      <td>12.529143</td>\n",
       "      <td>7.254304</td>\n",
       "      <td>100.000000</td>\n",
       "      <td>-77.446437</td>\n",
       "      <td>41.530226</td>\n",
       "      <td>82.956611</td>\n",
       "      <td>7.803574</td>\n",
       "      <td>-2.235699</td>\n",
       "    </tr>\n",
       "    <tr>\n",
       "      <th>DEWP</th>\n",
       "      <td>-35.929847</td>\n",
       "      <td>0.448879</td>\n",
       "      <td>10.595194</td>\n",
       "      <td>-77.446437</td>\n",
       "      <td>100.000000</td>\n",
       "      <td>-25.623535</td>\n",
       "      <td>-81.512474</td>\n",
       "      <td>-17.318721</td>\n",
       "      <td>21.711097</td>\n",
       "    </tr>\n",
       "    <tr>\n",
       "      <th>O3</th>\n",
       "      <td>20.157663</td>\n",
       "      <td>63.268170</td>\n",
       "      <td>42.742570</td>\n",
       "      <td>41.530226</td>\n",
       "      <td>-25.623535</td>\n",
       "      <td>100.000000</td>\n",
       "      <td>58.501074</td>\n",
       "      <td>0.057493</td>\n",
       "      <td>45.826638</td>\n",
       "    </tr>\n",
       "    <tr>\n",
       "      <th>TEMP</th>\n",
       "      <td>37.798617</td>\n",
       "      <td>27.980906</td>\n",
       "      <td>21.207443</td>\n",
       "      <td>82.956611</td>\n",
       "      <td>-81.512474</td>\n",
       "      <td>58.501074</td>\n",
       "      <td>100.000000</td>\n",
       "      <td>3.707923</td>\n",
       "      <td>13.402528</td>\n",
       "    </tr>\n",
       "    <tr>\n",
       "      <th>RAIN</th>\n",
       "      <td>14.959035</td>\n",
       "      <td>8.089121</td>\n",
       "      <td>0.386078</td>\n",
       "      <td>7.803574</td>\n",
       "      <td>-17.318721</td>\n",
       "      <td>0.057493</td>\n",
       "      <td>3.707923</td>\n",
       "      <td>100.000000</td>\n",
       "      <td>-0.244160</td>\n",
       "    </tr>\n",
       "    <tr>\n",
       "      <th>WSPM</th>\n",
       "      <td>9.715085</td>\n",
       "      <td>53.694471</td>\n",
       "      <td>43.224652</td>\n",
       "      <td>-2.235699</td>\n",
       "      <td>21.711097</td>\n",
       "      <td>45.826638</td>\n",
       "      <td>13.402528</td>\n",
       "      <td>-0.244160</td>\n",
       "      <td>100.000000</td>\n",
       "    </tr>\n",
       "  </tbody>\n",
       "</table>\n",
       "</div>"
      ],
      "text/plain": [
       "             SO2         NO2          CO        PRES        DEWP          O3  \\\n",
       "SO2   100.000000   48.243810   55.622623   25.399652  -35.929847   20.157663   \n",
       "NO2    48.243810  100.000000   73.509816   12.529143    0.448879   63.268170   \n",
       "CO     55.622623   73.509816  100.000000    7.254304   10.595194   42.742570   \n",
       "PRES   25.399652   12.529143    7.254304  100.000000  -77.446437   41.530226   \n",
       "DEWP  -35.929847    0.448879   10.595194  -77.446437  100.000000  -25.623535   \n",
       "O3     20.157663   63.268170   42.742570   41.530226  -25.623535  100.000000   \n",
       "TEMP   37.798617   27.980906   21.207443   82.956611  -81.512474   58.501074   \n",
       "RAIN   14.959035    8.089121    0.386078    7.803574  -17.318721    0.057493   \n",
       "WSPM    9.715085   53.694471   43.224652   -2.235699   21.711097   45.826638   \n",
       "\n",
       "            TEMP        RAIN        WSPM  \n",
       "SO2    37.798617   14.959035    9.715085  \n",
       "NO2    27.980906    8.089121   53.694471  \n",
       "CO     21.207443    0.386078   43.224652  \n",
       "PRES   82.956611    7.803574   -2.235699  \n",
       "DEWP  -81.512474  -17.318721   21.711097  \n",
       "O3     58.501074    0.057493   45.826638  \n",
       "TEMP  100.000000    3.707923   13.402528  \n",
       "RAIN    3.707923  100.000000   -0.244160  \n",
       "WSPM   13.402528   -0.244160  100.000000  "
      ]
     },
     "execution_count": 480,
     "metadata": {},
     "output_type": "execute_result"
    }
   ],
   "source": [
    "normalised_df.corr()*100"
   ]
  },
  {
   "cell_type": "code",
   "execution_count": null,
   "id": "1689013f-5db3-4fa4-94fe-5efe3fa7dbe8",
   "metadata": {},
   "outputs": [],
   "source": []
  },
  {
   "cell_type": "code",
   "execution_count": null,
   "id": "fd2fd667-a9b2-48be-b3c4-4b5b1cc86cab",
   "metadata": {},
   "outputs": [],
   "source": []
  },
  {
   "cell_type": "code",
   "execution_count": null,
   "id": "55d4dc43-72df-4bba-9282-8d5fd59612ef",
   "metadata": {},
   "outputs": [],
   "source": []
  },
  {
   "cell_type": "code",
   "execution_count": null,
   "id": "dfce26c8-5e92-495b-a5f0-bbc8b2e78011",
   "metadata": {},
   "outputs": [],
   "source": []
  },
  {
   "cell_type": "code",
   "execution_count": 481,
   "id": "bce8eeb0",
   "metadata": {
    "execution": {
     "iopub.execute_input": "2022-11-19T12:36:41.001238Z",
     "iopub.status.busy": "2022-11-19T12:36:41.001075Z",
     "iopub.status.idle": "2022-11-19T12:36:46.875253Z",
     "shell.execute_reply": "2022-11-19T12:36:46.874643Z",
     "shell.execute_reply.started": "2022-11-19T12:36:41.001219Z"
    },
    "tags": []
   },
   "outputs": [
    {
     "name": "stdout",
     "output_type": "stream",
     "text": [
      "9 34351 34351 (34351, 9)\n",
      "2.911123402521033e-05 0.1620913510523711\n"
     ]
    }
   ],
   "source": [
    "length,feature_count =normalised_df.shape[0], normalised_df.shape[1]\n",
    "print(feature_count,length,data.shape[0],normalised_df.shape)\n",
    "unweighted = ecdf_mv(normalised_df.values.reshape(length,feature_count),'positive')\n",
    "print(unweighted.min(),unweighted.max())\n",
    "normalised_df['unweighted_score'] = unweighted\n"
   ]
  },
  {
   "cell_type": "code",
   "execution_count": 482,
   "id": "86f70a27-a8d7-4048-9099-78bd36a23313",
   "metadata": {
    "execution": {
     "iopub.execute_input": "2022-11-19T12:36:46.876308Z",
     "iopub.status.busy": "2022-11-19T12:36:46.876129Z",
     "iopub.status.idle": "2022-11-19T12:36:46.888725Z",
     "shell.execute_reply": "2022-11-19T12:36:46.888208Z",
     "shell.execute_reply.started": "2022-11-19T12:36:46.876286Z"
    },
    "tags": []
   },
   "outputs": [
    {
     "data": {
      "text/html": [
       "<div>\n",
       "<style scoped>\n",
       "    .dataframe tbody tr th:only-of-type {\n",
       "        vertical-align: middle;\n",
       "    }\n",
       "\n",
       "    .dataframe tbody tr th {\n",
       "        vertical-align: top;\n",
       "    }\n",
       "\n",
       "    .dataframe thead th {\n",
       "        text-align: right;\n",
       "    }\n",
       "</style>\n",
       "<table border=\"1\" class=\"dataframe\">\n",
       "  <thead>\n",
       "    <tr style=\"text-align: right;\">\n",
       "      <th></th>\n",
       "      <th>SO2</th>\n",
       "      <th>NO2</th>\n",
       "      <th>CO</th>\n",
       "      <th>PRES</th>\n",
       "      <th>DEWP</th>\n",
       "      <th>O3</th>\n",
       "      <th>TEMP</th>\n",
       "      <th>RAIN</th>\n",
       "      <th>WSPM</th>\n",
       "      <th>unweighted_score</th>\n",
       "    </tr>\n",
       "  </thead>\n",
       "  <tbody>\n",
       "    <tr>\n",
       "      <th>0</th>\n",
       "      <td>0.466246</td>\n",
       "      <td>0.132078</td>\n",
       "      <td>0.056621</td>\n",
       "      <td>0.796629</td>\n",
       "      <td>0.061134</td>\n",
       "      <td>0.358010</td>\n",
       "      <td>0.841780</td>\n",
       "      <td>1.0</td>\n",
       "      <td>0.322145</td>\n",
       "      <td>0.000902</td>\n",
       "    </tr>\n",
       "    <tr>\n",
       "      <th>1</th>\n",
       "      <td>0.499985</td>\n",
       "      <td>0.099153</td>\n",
       "      <td>0.056621</td>\n",
       "      <td>0.812989</td>\n",
       "      <td>0.057087</td>\n",
       "      <td>0.333731</td>\n",
       "      <td>0.857355</td>\n",
       "      <td>1.0</td>\n",
       "      <td>0.042968</td>\n",
       "      <td>0.000524</td>\n",
       "    </tr>\n",
       "    <tr>\n",
       "      <th>2</th>\n",
       "      <td>0.007045</td>\n",
       "      <td>0.120695</td>\n",
       "      <td>0.056621</td>\n",
       "      <td>0.817502</td>\n",
       "      <td>0.051876</td>\n",
       "      <td>0.377252</td>\n",
       "      <td>0.869727</td>\n",
       "      <td>1.0</td>\n",
       "      <td>0.032837</td>\n",
       "      <td>0.000029</td>\n",
       "    </tr>\n",
       "    <tr>\n",
       "      <th>3</th>\n",
       "      <td>0.323892</td>\n",
       "      <td>0.120695</td>\n",
       "      <td>0.025385</td>\n",
       "      <td>0.840296</td>\n",
       "      <td>0.038281</td>\n",
       "      <td>1.000000</td>\n",
       "      <td>0.872755</td>\n",
       "      <td>1.0</td>\n",
       "      <td>0.194696</td>\n",
       "      <td>0.000029</td>\n",
       "    </tr>\n",
       "    <tr>\n",
       "      <th>4</th>\n",
       "      <td>0.323892</td>\n",
       "      <td>0.009636</td>\n",
       "      <td>0.123927</td>\n",
       "      <td>0.857617</td>\n",
       "      <td>0.030829</td>\n",
       "      <td>0.533813</td>\n",
       "      <td>0.877471</td>\n",
       "      <td>1.0</td>\n",
       "      <td>0.211115</td>\n",
       "      <td>0.000029</td>\n",
       "    </tr>\n",
       "  </tbody>\n",
       "</table>\n",
       "</div>"
      ],
      "text/plain": [
       "        SO2       NO2        CO      PRES      DEWP        O3      TEMP  RAIN  \\\n",
       "0  0.466246  0.132078  0.056621  0.796629  0.061134  0.358010  0.841780   1.0   \n",
       "1  0.499985  0.099153  0.056621  0.812989  0.057087  0.333731  0.857355   1.0   \n",
       "2  0.007045  0.120695  0.056621  0.817502  0.051876  0.377252  0.869727   1.0   \n",
       "3  0.323892  0.120695  0.025385  0.840296  0.038281  1.000000  0.872755   1.0   \n",
       "4  0.323892  0.009636  0.123927  0.857617  0.030829  0.533813  0.877471   1.0   \n",
       "\n",
       "       WSPM  unweighted_score  \n",
       "0  0.322145          0.000902  \n",
       "1  0.042968          0.000524  \n",
       "2  0.032837          0.000029  \n",
       "3  0.194696          0.000029  \n",
       "4  0.211115          0.000029  "
      ]
     },
     "execution_count": 482,
     "metadata": {},
     "output_type": "execute_result"
    }
   ],
   "source": [
    "normalised_df.head()"
   ]
  },
  {
   "cell_type": "code",
   "execution_count": 483,
   "id": "68737325",
   "metadata": {
    "execution": {
     "iopub.execute_input": "2022-11-19T12:36:46.917770Z",
     "iopub.status.busy": "2022-11-19T12:36:46.917594Z",
     "iopub.status.idle": "2022-11-19T12:36:46.922806Z",
     "shell.execute_reply": "2022-11-19T12:36:46.922306Z",
     "shell.execute_reply.started": "2022-11-19T12:36:46.917749Z"
    },
    "tags": []
   },
   "outputs": [],
   "source": [
    "def entropy_weight(df):\n",
    "    from scipy.stats import entropy\n",
    "    cols=list(df)\n",
    "    entropy_list=[]\n",
    "    for c in cols:\n",
    "        temp=list(df[c])\n",
    "        temp_entropy=entropy(pd.value_counts(temp))\n",
    "        entropy_list.append(temp_entropy)\n",
    "    normalizer=sum(entropy_list)\n",
    "    entropy_values=[e/normalizer for e in entropy_list]\n",
    "    return dict(zip(cols, entropy_values))"
   ]
  },
  {
   "cell_type": "code",
   "execution_count": 484,
   "id": "51e19bc2",
   "metadata": {
    "execution": {
     "iopub.execute_input": "2022-11-19T12:36:46.923663Z",
     "iopub.status.busy": "2022-11-19T12:36:46.923503Z",
     "iopub.status.idle": "2022-11-19T12:36:47.008646Z",
     "shell.execute_reply": "2022-11-19T12:36:47.008073Z",
     "shell.execute_reply.started": "2022-11-19T12:36:46.923644Z"
    },
    "tags": []
   },
   "outputs": [],
   "source": [
    "entropy_weight_dict = entropy_weight(normalised_df[pos_dir_var+neg_dir_var])"
   ]
  },
  {
   "cell_type": "code",
   "execution_count": 485,
   "id": "bd7b1b83",
   "metadata": {
    "execution": {
     "iopub.execute_input": "2022-11-19T12:36:47.011495Z",
     "iopub.status.busy": "2022-11-19T12:36:47.011289Z",
     "iopub.status.idle": "2022-11-19T12:36:47.016175Z",
     "shell.execute_reply": "2022-11-19T12:36:47.015611Z",
     "shell.execute_reply.started": "2022-11-19T12:36:47.011473Z"
    },
    "tags": []
   },
   "outputs": [
    {
     "data": {
      "text/plain": [
       "{'SO2': 0.09132843818061548,\n",
       " 'NO2': 0.12494094477770655,\n",
       " 'CO': 0.09034900641143875,\n",
       " 'PRES': 0.15242759084849059,\n",
       " 'DEWP': 0.1577590644556976,\n",
       " 'O3': 0.12656805384897404,\n",
       " 'TEMP': 0.15507538679360688,\n",
       " 'RAIN': 0.007489553641558083,\n",
       " 'WSPM': 0.09406196104191189}"
      ]
     },
     "execution_count": 485,
     "metadata": {},
     "output_type": "execute_result"
    }
   ],
   "source": [
    "entropy_weight_dict"
   ]
  },
  {
   "cell_type": "code",
   "execution_count": 486,
   "id": "97cc3eb0",
   "metadata": {
    "execution": {
     "iopub.execute_input": "2022-11-19T12:36:47.017123Z",
     "iopub.status.busy": "2022-11-19T12:36:47.016957Z",
     "iopub.status.idle": "2022-11-19T12:36:47.041736Z",
     "shell.execute_reply": "2022-11-19T12:36:47.041273Z",
     "shell.execute_reply.started": "2022-11-19T12:36:47.017104Z"
    },
    "tags": []
   },
   "outputs": [],
   "source": [
    "def dependency_weight(df):\n",
    "    cols = pos_dir_var+neg_dir_var\n",
    "    coef_list = []\n",
    "    unweighted = list(df['unweighted_score'])\n",
    "    k=len(cols)\n",
    "    for c in cols:\n",
    "            temp=list(df[c])\n",
    "            temp_coeff, _=spearmanr(temp, unweighted)\n",
    "            coef_list.append(temp_coeff)\n",
    "    normalizer=k-sum(coef_list)\n",
    "    coeff_values=[(1-e)/normalizer for e in coef_list]\n",
    "    return dict(zip(cols, coeff_values))"
   ]
  },
  {
   "cell_type": "code",
   "execution_count": 487,
   "id": "11fb5b8e",
   "metadata": {
    "execution": {
     "iopub.execute_input": "2022-11-19T12:36:47.072897Z",
     "iopub.status.busy": "2022-11-19T12:36:47.072707Z",
     "iopub.status.idle": "2022-11-19T12:36:47.202568Z",
     "shell.execute_reply": "2022-11-19T12:36:47.202034Z",
     "shell.execute_reply.started": "2022-11-19T12:36:47.072876Z"
    },
    "tags": []
   },
   "outputs": [],
   "source": [
    "dependency_weight_dict = dependency_weight(normalised_df)"
   ]
  },
  {
   "cell_type": "code",
   "execution_count": 488,
   "id": "533717bf",
   "metadata": {
    "execution": {
     "iopub.execute_input": "2022-11-19T12:36:47.231562Z",
     "iopub.status.busy": "2022-11-19T12:36:47.231385Z",
     "iopub.status.idle": "2022-11-19T12:36:47.235797Z",
     "shell.execute_reply": "2022-11-19T12:36:47.235349Z",
     "shell.execute_reply.started": "2022-11-19T12:36:47.231542Z"
    },
    "tags": []
   },
   "outputs": [
    {
     "data": {
      "text/plain": [
       "{'SO2': 0.12370032367032534,\n",
       " 'NO2': 0.06215931991623452,\n",
       " 'CO': 0.07604298995305639,\n",
       " 'PRES': 0.11717297533681456,\n",
       " 'DEWP': 0.2054012577386967,\n",
       " 'O3': 0.07328184378523776,\n",
       " 'TEMP': 0.11502332906149415,\n",
       " 'RAIN': 0.13835147251696106,\n",
       " 'WSPM': 0.08886648802117952}"
      ]
     },
     "execution_count": 488,
     "metadata": {},
     "output_type": "execute_result"
    }
   ],
   "source": [
    "dependency_weight_dict"
   ]
  },
  {
   "cell_type": "code",
   "execution_count": 489,
   "id": "d768c372",
   "metadata": {
    "execution": {
     "iopub.execute_input": "2022-11-19T12:36:47.236653Z",
     "iopub.status.busy": "2022-11-19T12:36:47.236487Z",
     "iopub.status.idle": "2022-11-19T12:36:47.262863Z",
     "shell.execute_reply": "2022-11-19T12:36:47.262396Z",
     "shell.execute_reply.started": "2022-11-19T12:36:47.236633Z"
    },
    "tags": []
   },
   "outputs": [],
   "source": [
    "def combined_weight_calculator(dependency_weight_dict, entropy_weight_dict):\n",
    "    value = []\n",
    "    feature_list = []\n",
    "    for feature, dependency_weight in dependency_weight_dict.items():\n",
    "\n",
    "        entropy_weight = entropy_weight_dict[feature]\n",
    "        temp_weight = entropy_weight*dependency_weight\n",
    "        value.append(temp_weight)\n",
    "        feature_list.append(feature)\n",
    "    normalizer=sum(value)\n",
    "    combined_weights=[e/normalizer for e in value]\n",
    "    return dict(zip(feature_list, combined_weights))"
   ]
  },
  {
   "cell_type": "code",
   "execution_count": 490,
   "id": "5557b43c",
   "metadata": {
    "execution": {
     "iopub.execute_input": "2022-11-19T12:36:47.291283Z",
     "iopub.status.busy": "2022-11-19T12:36:47.291108Z",
     "iopub.status.idle": "2022-11-19T12:36:47.297518Z",
     "shell.execute_reply": "2022-11-19T12:36:47.297086Z",
     "shell.execute_reply.started": "2022-11-19T12:36:47.291262Z"
    },
    "tags": []
   },
   "outputs": [],
   "source": [
    "final_weights = combined_weight_calculator(dependency_weight_dict, entropy_weight_dict)"
   ]
  },
  {
   "cell_type": "code",
   "execution_count": 491,
   "id": "1f97aa9f",
   "metadata": {
    "execution": {
     "iopub.execute_input": "2022-11-19T12:36:47.323390Z",
     "iopub.status.busy": "2022-11-19T12:36:47.322692Z",
     "iopub.status.idle": "2022-11-19T12:36:47.329197Z",
     "shell.execute_reply": "2022-11-19T12:36:47.328642Z",
     "shell.execute_reply.started": "2022-11-19T12:36:47.323354Z"
    },
    "tags": []
   },
   "outputs": [
    {
     "data": {
      "text/plain": [
       "(1.0, 1.0, 1.0)"
      ]
     },
     "execution_count": 491,
     "metadata": {},
     "output_type": "execute_result"
    }
   ],
   "source": [
    "sum(final_weights.values()),sum(dependency_weight_dict.values()),sum(entropy_weight_dict.values())"
   ]
  },
  {
   "cell_type": "code",
   "execution_count": 606,
   "id": "262f9add",
   "metadata": {
    "execution": {
     "iopub.execute_input": "2022-11-20T09:59:54.197767Z",
     "iopub.status.busy": "2022-11-20T09:59:54.197352Z",
     "iopub.status.idle": "2022-11-20T09:59:54.202551Z",
     "shell.execute_reply": "2022-11-20T09:59:54.202033Z",
     "shell.execute_reply.started": "2022-11-20T09:59:54.197736Z"
    },
    "tags": []
   },
   "outputs": [
    {
     "data": {
      "text/plain": [
       "[0.10023750703831188,\n",
       " 0.0689071725648402,\n",
       " 0.06095873636052296,\n",
       " 0.15846904245958354,\n",
       " 0.28750858083059583,\n",
       " 0.08229508160689905,\n",
       " 0.1582640212419518,\n",
       " 0.009193758924576202,\n",
       " 0.07416609897271856]"
      ]
     },
     "execution_count": 606,
     "metadata": {},
     "output_type": "execute_result"
    }
   ],
   "source": [
    "list(final_weights.values())"
   ]
  },
  {
   "cell_type": "code",
   "execution_count": 607,
   "id": "7727e5ce-4841-4c12-8c62-ca9ab96a83cf",
   "metadata": {
    "execution": {
     "iopub.execute_input": "2022-11-20T10:00:34.408067Z",
     "iopub.status.busy": "2022-11-20T10:00:34.407299Z",
     "iopub.status.idle": "2022-11-20T10:00:34.412481Z",
     "shell.execute_reply": "2022-11-20T10:00:34.411969Z",
     "shell.execute_reply.started": "2022-11-20T10:00:34.408031Z"
    }
   },
   "outputs": [
    {
     "data": {
      "text/plain": [
       "['SO2', 'NO2', 'CO', 'PRES', 'DEWP', 'O3', 'TEMP', 'RAIN', 'WSPM']"
      ]
     },
     "execution_count": 607,
     "metadata": {},
     "output_type": "execute_result"
    }
   ],
   "source": [
    "list(final_weights.keys())"
   ]
  },
  {
   "cell_type": "code",
   "execution_count": 609,
   "id": "db1023b6-b6b6-449d-816f-0e80275716fb",
   "metadata": {
    "execution": {
     "iopub.execute_input": "2022-11-20T10:01:46.068544Z",
     "iopub.status.busy": "2022-11-20T10:01:46.067821Z",
     "iopub.status.idle": "2022-11-20T10:01:46.321919Z",
     "shell.execute_reply": "2022-11-20T10:01:46.321395Z",
     "shell.execute_reply.started": "2022-11-20T10:01:46.068512Z"
    },
    "tags": []
   },
   "outputs": [
    {
     "data": {
      "image/png": "[encoded data removed]",
      "text/plain": [
       "<Figure size 1100x700 with 1 Axes>"
      ]
     },
     "metadata": {},
     "output_type": "display_data"
    }
   ],
   "source": [
    "import matplotlib.pyplot as plt\n",
    "import numpy as np\n",
    "\n",
    "import matplotlib.pyplot as plt\n",
    "plt.rcParams[\"figure.figsize\"] = (11,7)\n",
    "\n",
    "labels = list(final_weights.keys())\n",
    "weights = list(final_weights.values())\n",
    "\n",
    "\n",
    "x = np.arange(len(labels))  # the label locations\n",
    "width = 0.32  # the width of the bars\n",
    "\n",
    "fig, ax = plt.subplots()\n",
    "rects1 = ax.bar(x - width/2, weights, width, label='Weights')\n",
    "\n",
    "\n",
    "# Add some text for labels, title and custom x-axis tick labels, etc.\n",
    "ax.set_ylabel('values')\n",
    "ax.set_title('Weights Distribution')\n",
    "ax.set_xticks(x, labels)\n",
    "ax.legend()\n",
    "\n",
    "ax.bar_label(rects1, padding=3)\n",
    "\n",
    "\n",
    "fig.tight_layout()\n",
    "\n",
    "plt.show()"
   ]
  },
  {
   "cell_type": "code",
   "execution_count": null,
   "id": "9ff5eb95-2d9c-4e01-bbad-0a9bb64950a6",
   "metadata": {},
   "outputs": [],
   "source": []
  },
  {
   "cell_type": "code",
   "execution_count": null,
   "id": "37480d2f-3b2c-4fbf-91a3-48ec22cea151",
   "metadata": {},
   "outputs": [],
   "source": []
  },
  {
   "cell_type": "code",
   "execution_count": null,
   "id": "57980f26-01f2-47dd-a0b4-515577df6ce6",
   "metadata": {},
   "outputs": [],
   "source": []
  },
  {
   "cell_type": "code",
   "execution_count": null,
   "id": "7ab266df-0c69-4557-87cf-9fd56667e485",
   "metadata": {},
   "outputs": [],
   "source": []
  },
  {
   "cell_type": "code",
   "execution_count": null,
   "id": "7a57ff96-73a3-4e95-b4ad-b74e2305eebd",
   "metadata": {},
   "outputs": [],
   "source": []
  },
  {
   "cell_type": "code",
   "execution_count": 493,
   "id": "76c03853",
   "metadata": {
    "execution": {
     "iopub.execute_input": "2022-11-19T12:36:47.443946Z",
     "iopub.status.busy": "2022-11-19T12:36:47.443743Z",
     "iopub.status.idle": "2022-11-19T12:36:47.447533Z",
     "shell.execute_reply": "2022-11-19T12:36:47.446794Z",
     "shell.execute_reply.started": "2022-11-19T12:36:47.443923Z"
    },
    "tags": []
   },
   "outputs": [],
   "source": [
    "transformed_df = normalised_df.copy()"
   ]
  },
  {
   "cell_type": "code",
   "execution_count": 494,
   "id": "15534e25",
   "metadata": {
    "execution": {
     "iopub.execute_input": "2022-11-19T12:36:47.448605Z",
     "iopub.status.busy": "2022-11-19T12:36:47.448409Z",
     "iopub.status.idle": "2022-11-19T12:36:47.481774Z",
     "shell.execute_reply": "2022-11-19T12:36:47.481270Z",
     "shell.execute_reply.started": "2022-11-19T12:36:47.448581Z"
    },
    "tags": []
   },
   "outputs": [
    {
     "data": {
      "text/html": [
       "<div>\n",
       "<style scoped>\n",
       "    .dataframe tbody tr th:only-of-type {\n",
       "        vertical-align: middle;\n",
       "    }\n",
       "\n",
       "    .dataframe tbody tr th {\n",
       "        vertical-align: top;\n",
       "    }\n",
       "\n",
       "    .dataframe thead th {\n",
       "        text-align: right;\n",
       "    }\n",
       "</style>\n",
       "<table border=\"1\" class=\"dataframe\">\n",
       "  <thead>\n",
       "    <tr style=\"text-align: right;\">\n",
       "      <th></th>\n",
       "      <th>SO2</th>\n",
       "      <th>NO2</th>\n",
       "      <th>CO</th>\n",
       "      <th>PRES</th>\n",
       "      <th>DEWP</th>\n",
       "      <th>O3</th>\n",
       "      <th>TEMP</th>\n",
       "      <th>RAIN</th>\n",
       "      <th>WSPM</th>\n",
       "      <th>unweighted_score</th>\n",
       "    </tr>\n",
       "  </thead>\n",
       "  <tbody>\n",
       "    <tr>\n",
       "      <th>0</th>\n",
       "      <td>0.466246</td>\n",
       "      <td>0.132078</td>\n",
       "      <td>0.056621</td>\n",
       "      <td>0.796629</td>\n",
       "      <td>0.061134</td>\n",
       "      <td>0.358010</td>\n",
       "      <td>0.841780</td>\n",
       "      <td>1.0</td>\n",
       "      <td>0.322145</td>\n",
       "      <td>0.000902</td>\n",
       "    </tr>\n",
       "    <tr>\n",
       "      <th>1</th>\n",
       "      <td>0.499985</td>\n",
       "      <td>0.099153</td>\n",
       "      <td>0.056621</td>\n",
       "      <td>0.812989</td>\n",
       "      <td>0.057087</td>\n",
       "      <td>0.333731</td>\n",
       "      <td>0.857355</td>\n",
       "      <td>1.0</td>\n",
       "      <td>0.042968</td>\n",
       "      <td>0.000524</td>\n",
       "    </tr>\n",
       "    <tr>\n",
       "      <th>2</th>\n",
       "      <td>0.007045</td>\n",
       "      <td>0.120695</td>\n",
       "      <td>0.056621</td>\n",
       "      <td>0.817502</td>\n",
       "      <td>0.051876</td>\n",
       "      <td>0.377252</td>\n",
       "      <td>0.869727</td>\n",
       "      <td>1.0</td>\n",
       "      <td>0.032837</td>\n",
       "      <td>0.000029</td>\n",
       "    </tr>\n",
       "    <tr>\n",
       "      <th>3</th>\n",
       "      <td>0.323892</td>\n",
       "      <td>0.120695</td>\n",
       "      <td>0.025385</td>\n",
       "      <td>0.840296</td>\n",
       "      <td>0.038281</td>\n",
       "      <td>1.000000</td>\n",
       "      <td>0.872755</td>\n",
       "      <td>1.0</td>\n",
       "      <td>0.194696</td>\n",
       "      <td>0.000029</td>\n",
       "    </tr>\n",
       "    <tr>\n",
       "      <th>4</th>\n",
       "      <td>0.323892</td>\n",
       "      <td>0.009636</td>\n",
       "      <td>0.123927</td>\n",
       "      <td>0.857617</td>\n",
       "      <td>0.030829</td>\n",
       "      <td>0.533813</td>\n",
       "      <td>0.877471</td>\n",
       "      <td>1.0</td>\n",
       "      <td>0.211115</td>\n",
       "      <td>0.000029</td>\n",
       "    </tr>\n",
       "  </tbody>\n",
       "</table>\n",
       "</div>"
      ],
      "text/plain": [
       "        SO2       NO2        CO      PRES      DEWP        O3      TEMP  RAIN  \\\n",
       "0  0.466246  0.132078  0.056621  0.796629  0.061134  0.358010  0.841780   1.0   \n",
       "1  0.499985  0.099153  0.056621  0.812989  0.057087  0.333731  0.857355   1.0   \n",
       "2  0.007045  0.120695  0.056621  0.817502  0.051876  0.377252  0.869727   1.0   \n",
       "3  0.323892  0.120695  0.025385  0.840296  0.038281  1.000000  0.872755   1.0   \n",
       "4  0.323892  0.009636  0.123927  0.857617  0.030829  0.533813  0.877471   1.0   \n",
       "\n",
       "       WSPM  unweighted_score  \n",
       "0  0.322145          0.000902  \n",
       "1  0.042968          0.000524  \n",
       "2  0.032837          0.000029  \n",
       "3  0.194696          0.000029  \n",
       "4  0.211115          0.000029  "
      ]
     },
     "execution_count": 494,
     "metadata": {},
     "output_type": "execute_result"
    }
   ],
   "source": [
    "transformed_df.head()"
   ]
  },
  {
   "cell_type": "code",
   "execution_count": 495,
   "id": "eec43702",
   "metadata": {
    "execution": {
     "iopub.execute_input": "2022-11-19T12:36:47.482700Z",
     "iopub.status.busy": "2022-11-19T12:36:47.482526Z",
     "iopub.status.idle": "2022-11-19T12:36:47.507761Z",
     "shell.execute_reply": "2022-11-19T12:36:47.507235Z",
     "shell.execute_reply.started": "2022-11-19T12:36:47.482680Z"
    },
    "tags": []
   },
   "outputs": [],
   "source": [
    "result=normalised_df.copy()"
   ]
  },
  {
   "cell_type": "code",
   "execution_count": 496,
   "id": "fab05774",
   "metadata": {
    "execution": {
     "iopub.execute_input": "2022-11-19T12:36:47.508711Z",
     "iopub.status.busy": "2022-11-19T12:36:47.508534Z",
     "iopub.status.idle": "2022-11-19T12:36:51.569713Z",
     "shell.execute_reply": "2022-11-19T12:36:51.569083Z",
     "shell.execute_reply.started": "2022-11-19T12:36:47.508689Z"
    },
    "tags": []
   },
   "outputs": [],
   "source": [
    "transformed_df = normalised_df.copy()\n",
    "for feature, combined_weight in final_weights.items():\n",
    "    transformed_df[feature] = transformed_df[feature]**combined_weight\n",
    "\n",
    "WPM = transformed_df[pos_dir_var+neg_dir_var].apply(lambda row: np.prod(row), axis = 1)\n",
    "result['WPM']=WPM\n",
    "\n",
    "transformed_df = normalised_df.copy()\n",
    "for feature, comined_weight in final_weights.items():\n",
    "    transformed_df[feature] = transformed_df[feature]*comined_weight\n",
    "WSM = transformed_df[pos_dir_var+neg_dir_var].apply(lambda row: np.sum(row), axis = 1)\n",
    "result['WSM']=WSM\n"
   ]
  },
  {
   "cell_type": "code",
   "execution_count": 497,
   "id": "29d93580",
   "metadata": {
    "execution": {
     "iopub.execute_input": "2022-11-19T12:36:51.570892Z",
     "iopub.status.busy": "2022-11-19T12:36:51.570689Z",
     "iopub.status.idle": "2022-11-19T12:36:51.585654Z",
     "shell.execute_reply": "2022-11-19T12:36:51.585096Z",
     "shell.execute_reply.started": "2022-11-19T12:36:51.570870Z"
    },
    "tags": []
   },
   "outputs": [
    {
     "data": {
      "text/html": [
       "<div>\n",
       "<style scoped>\n",
       "    .dataframe tbody tr th:only-of-type {\n",
       "        vertical-align: middle;\n",
       "    }\n",
       "\n",
       "    .dataframe tbody tr th {\n",
       "        vertical-align: top;\n",
       "    }\n",
       "\n",
       "    .dataframe thead th {\n",
       "        text-align: right;\n",
       "    }\n",
       "</style>\n",
       "<table border=\"1\" class=\"dataframe\">\n",
       "  <thead>\n",
       "    <tr style=\"text-align: right;\">\n",
       "      <th></th>\n",
       "      <th>SO2</th>\n",
       "      <th>NO2</th>\n",
       "      <th>CO</th>\n",
       "      <th>PRES</th>\n",
       "      <th>DEWP</th>\n",
       "      <th>O3</th>\n",
       "      <th>TEMP</th>\n",
       "      <th>RAIN</th>\n",
       "      <th>WSPM</th>\n",
       "      <th>unweighted_score</th>\n",
       "      <th>WPM</th>\n",
       "      <th>WSM</th>\n",
       "    </tr>\n",
       "  </thead>\n",
       "  <tbody>\n",
       "    <tr>\n",
       "      <th>0</th>\n",
       "      <td>0.466246</td>\n",
       "      <td>0.132078</td>\n",
       "      <td>0.056621</td>\n",
       "      <td>0.796629</td>\n",
       "      <td>0.061134</td>\n",
       "      <td>0.358010</td>\n",
       "      <td>0.841780</td>\n",
       "      <td>1.0</td>\n",
       "      <td>0.322145</td>\n",
       "      <td>0.000902</td>\n",
       "      <td>0.240185</td>\n",
       "      <td>0.398877</td>\n",
       "    </tr>\n",
       "    <tr>\n",
       "      <th>1</th>\n",
       "      <td>0.499985</td>\n",
       "      <td>0.099153</td>\n",
       "      <td>0.056621</td>\n",
       "      <td>0.812989</td>\n",
       "      <td>0.057087</td>\n",
       "      <td>0.333731</td>\n",
       "      <td>0.857355</td>\n",
       "      <td>1.0</td>\n",
       "      <td>0.042968</td>\n",
       "      <td>0.000524</td>\n",
       "      <td>0.200316</td>\n",
       "      <td>0.381181</td>\n",
       "    </tr>\n",
       "    <tr>\n",
       "      <th>2</th>\n",
       "      <td>0.007045</td>\n",
       "      <td>0.120695</td>\n",
       "      <td>0.056621</td>\n",
       "      <td>0.817502</td>\n",
       "      <td>0.051876</td>\n",
       "      <td>0.377252</td>\n",
       "      <td>0.869727</td>\n",
       "      <td>1.0</td>\n",
       "      <td>0.032837</td>\n",
       "      <td>0.000029</td>\n",
       "      <td>0.127993</td>\n",
       "      <td>0.337260</td>\n",
       "    </tr>\n",
       "    <tr>\n",
       "      <th>3</th>\n",
       "      <td>0.323892</td>\n",
       "      <td>0.120695</td>\n",
       "      <td>0.025385</td>\n",
       "      <td>0.840296</td>\n",
       "      <td>0.038281</td>\n",
       "      <td>1.000000</td>\n",
       "      <td>0.872755</td>\n",
       "      <td>1.0</td>\n",
       "      <td>0.194696</td>\n",
       "      <td>0.000029</td>\n",
       "      <td>0.203681</td>\n",
       "      <td>0.430552</td>\n",
       "    </tr>\n",
       "    <tr>\n",
       "      <th>4</th>\n",
       "      <td>0.323892</td>\n",
       "      <td>0.009636</td>\n",
       "      <td>0.123927</td>\n",
       "      <td>0.857617</td>\n",
       "      <td>0.030829</td>\n",
       "      <td>0.533813</td>\n",
       "      <td>0.877471</td>\n",
       "      <td>1.0</td>\n",
       "      <td>0.211115</td>\n",
       "      <td>0.000029</td>\n",
       "      <td>0.169900</td>\n",
       "      <td>0.393107</td>\n",
       "    </tr>\n",
       "  </tbody>\n",
       "</table>\n",
       "</div>"
      ],
      "text/plain": [
       "        SO2       NO2        CO      PRES      DEWP        O3      TEMP  RAIN  \\\n",
       "0  0.466246  0.132078  0.056621  0.796629  0.061134  0.358010  0.841780   1.0   \n",
       "1  0.499985  0.099153  0.056621  0.812989  0.057087  0.333731  0.857355   1.0   \n",
       "2  0.007045  0.120695  0.056621  0.817502  0.051876  0.377252  0.869727   1.0   \n",
       "3  0.323892  0.120695  0.025385  0.840296  0.038281  1.000000  0.872755   1.0   \n",
       "4  0.323892  0.009636  0.123927  0.857617  0.030829  0.533813  0.877471   1.0   \n",
       "\n",
       "       WSPM  unweighted_score       WPM       WSM  \n",
       "0  0.322145          0.000902  0.240185  0.398877  \n",
       "1  0.042968          0.000524  0.200316  0.381181  \n",
       "2  0.032837          0.000029  0.127993  0.337260  \n",
       "3  0.194696          0.000029  0.203681  0.430552  \n",
       "4  0.211115          0.000029  0.169900  0.393107  "
      ]
     },
     "execution_count": 497,
     "metadata": {},
     "output_type": "execute_result"
    }
   ],
   "source": [
    "result.head()"
   ]
  },
  {
   "cell_type": "code",
   "execution_count": 498,
   "id": "42415688",
   "metadata": {
    "execution": {
     "iopub.execute_input": "2022-11-19T12:36:51.586662Z",
     "iopub.status.busy": "2022-11-19T12:36:51.586473Z",
     "iopub.status.idle": "2022-11-19T12:36:51.619313Z",
     "shell.execute_reply": "2022-11-19T12:36:51.618848Z",
     "shell.execute_reply.started": "2022-11-19T12:36:51.586639Z"
    },
    "tags": []
   },
   "outputs": [
    {
     "data": {
      "text/plain": [
       "(34351, 12)"
      ]
     },
     "execution_count": 498,
     "metadata": {},
     "output_type": "execute_result"
    }
   ],
   "source": [
    "result.shape"
   ]
  },
  {
   "cell_type": "code",
   "execution_count": 499,
   "id": "6b2eff18-cb7b-412e-a0de-a49d95efc64a",
   "metadata": {
    "execution": {
     "iopub.execute_input": "2022-11-19T12:36:51.620170Z",
     "iopub.status.busy": "2022-11-19T12:36:51.620010Z",
     "iopub.status.idle": "2022-11-19T12:36:51.647156Z",
     "shell.execute_reply": "2022-11-19T12:36:51.646716Z",
     "shell.execute_reply.started": "2022-11-19T12:36:51.620151Z"
    },
    "tags": []
   },
   "outputs": [
    {
     "data": {
      "text/plain": [
       "(34351,)"
      ]
     },
     "execution_count": 499,
     "metadata": {},
     "output_type": "execute_result"
    }
   ],
   "source": [
    "data[target].shape"
   ]
  },
  {
   "cell_type": "code",
   "execution_count": 500,
   "id": "00a5fbec",
   "metadata": {
    "execution": {
     "iopub.execute_input": "2022-11-19T12:36:51.647998Z",
     "iopub.status.busy": "2022-11-19T12:36:51.647845Z",
     "iopub.status.idle": "2022-11-19T12:36:51.673163Z",
     "shell.execute_reply": "2022-11-19T12:36:51.672545Z",
     "shell.execute_reply.started": "2022-11-19T12:36:51.647979Z"
    },
    "tags": []
   },
   "outputs": [],
   "source": [
    "result[target]=data[target]"
   ]
  },
  {
   "cell_type": "code",
   "execution_count": 501,
   "id": "7c015ddf",
   "metadata": {
    "execution": {
     "iopub.execute_input": "2022-11-19T12:36:51.674021Z",
     "iopub.status.busy": "2022-11-19T12:36:51.673860Z",
     "iopub.status.idle": "2022-11-19T12:36:51.710348Z",
     "shell.execute_reply": "2022-11-19T12:36:51.709902Z",
     "shell.execute_reply.started": "2022-11-19T12:36:51.674002Z"
    },
    "tags": []
   },
   "outputs": [
    {
     "data": {
      "text/html": [
       "<div>\n",
       "<style scoped>\n",
       "    .dataframe tbody tr th:only-of-type {\n",
       "        vertical-align: middle;\n",
       "    }\n",
       "\n",
       "    .dataframe tbody tr th {\n",
       "        vertical-align: top;\n",
       "    }\n",
       "\n",
       "    .dataframe thead th {\n",
       "        text-align: right;\n",
       "    }\n",
       "</style>\n",
       "<table border=\"1\" class=\"dataframe\">\n",
       "  <thead>\n",
       "    <tr style=\"text-align: right;\">\n",
       "      <th></th>\n",
       "      <th>SO2</th>\n",
       "      <th>NO2</th>\n",
       "      <th>CO</th>\n",
       "      <th>PRES</th>\n",
       "      <th>DEWP</th>\n",
       "      <th>O3</th>\n",
       "      <th>TEMP</th>\n",
       "      <th>RAIN</th>\n",
       "      <th>WSPM</th>\n",
       "      <th>unweighted_score</th>\n",
       "      <th>WPM</th>\n",
       "      <th>WSM</th>\n",
       "      <th>PM2.5</th>\n",
       "    </tr>\n",
       "  </thead>\n",
       "  <tbody>\n",
       "    <tr>\n",
       "      <th>0</th>\n",
       "      <td>0.466246</td>\n",
       "      <td>0.132078</td>\n",
       "      <td>0.056621</td>\n",
       "      <td>0.796629</td>\n",
       "      <td>0.061134</td>\n",
       "      <td>0.358010</td>\n",
       "      <td>0.841780</td>\n",
       "      <td>1.0</td>\n",
       "      <td>0.322145</td>\n",
       "      <td>0.000902</td>\n",
       "      <td>0.240185</td>\n",
       "      <td>0.398877</td>\n",
       "      <td>9.0</td>\n",
       "    </tr>\n",
       "    <tr>\n",
       "      <th>1</th>\n",
       "      <td>0.499985</td>\n",
       "      <td>0.099153</td>\n",
       "      <td>0.056621</td>\n",
       "      <td>0.812989</td>\n",
       "      <td>0.057087</td>\n",
       "      <td>0.333731</td>\n",
       "      <td>0.857355</td>\n",
       "      <td>1.0</td>\n",
       "      <td>0.042968</td>\n",
       "      <td>0.000524</td>\n",
       "      <td>0.200316</td>\n",
       "      <td>0.381181</td>\n",
       "      <td>11.0</td>\n",
       "    </tr>\n",
       "    <tr>\n",
       "      <th>2</th>\n",
       "      <td>0.007045</td>\n",
       "      <td>0.120695</td>\n",
       "      <td>0.056621</td>\n",
       "      <td>0.817502</td>\n",
       "      <td>0.051876</td>\n",
       "      <td>0.377252</td>\n",
       "      <td>0.869727</td>\n",
       "      <td>1.0</td>\n",
       "      <td>0.032837</td>\n",
       "      <td>0.000029</td>\n",
       "      <td>0.127993</td>\n",
       "      <td>0.337260</td>\n",
       "      <td>8.0</td>\n",
       "    </tr>\n",
       "    <tr>\n",
       "      <th>3</th>\n",
       "      <td>0.323892</td>\n",
       "      <td>0.120695</td>\n",
       "      <td>0.025385</td>\n",
       "      <td>0.840296</td>\n",
       "      <td>0.038281</td>\n",
       "      <td>1.000000</td>\n",
       "      <td>0.872755</td>\n",
       "      <td>1.0</td>\n",
       "      <td>0.194696</td>\n",
       "      <td>0.000029</td>\n",
       "      <td>0.203681</td>\n",
       "      <td>0.430552</td>\n",
       "      <td>8.0</td>\n",
       "    </tr>\n",
       "    <tr>\n",
       "      <th>4</th>\n",
       "      <td>0.323892</td>\n",
       "      <td>0.009636</td>\n",
       "      <td>0.123927</td>\n",
       "      <td>0.857617</td>\n",
       "      <td>0.030829</td>\n",
       "      <td>0.533813</td>\n",
       "      <td>0.877471</td>\n",
       "      <td>1.0</td>\n",
       "      <td>0.211115</td>\n",
       "      <td>0.000029</td>\n",
       "      <td>0.169900</td>\n",
       "      <td>0.393107</td>\n",
       "      <td>8.0</td>\n",
       "    </tr>\n",
       "  </tbody>\n",
       "</table>\n",
       "</div>"
      ],
      "text/plain": [
       "        SO2       NO2        CO      PRES      DEWP        O3      TEMP  RAIN  \\\n",
       "0  0.466246  0.132078  0.056621  0.796629  0.061134  0.358010  0.841780   1.0   \n",
       "1  0.499985  0.099153  0.056621  0.812989  0.057087  0.333731  0.857355   1.0   \n",
       "2  0.007045  0.120695  0.056621  0.817502  0.051876  0.377252  0.869727   1.0   \n",
       "3  0.323892  0.120695  0.025385  0.840296  0.038281  1.000000  0.872755   1.0   \n",
       "4  0.323892  0.009636  0.123927  0.857617  0.030829  0.533813  0.877471   1.0   \n",
       "\n",
       "       WSPM  unweighted_score       WPM       WSM  PM2.5  \n",
       "0  0.322145          0.000902  0.240185  0.398877    9.0  \n",
       "1  0.042968          0.000524  0.200316  0.381181   11.0  \n",
       "2  0.032837          0.000029  0.127993  0.337260    8.0  \n",
       "3  0.194696          0.000029  0.203681  0.430552    8.0  \n",
       "4  0.211115          0.000029  0.169900  0.393107    8.0  "
      ]
     },
     "execution_count": 501,
     "metadata": {},
     "output_type": "execute_result"
    }
   ],
   "source": [
    "result.head()"
   ]
  },
  {
   "cell_type": "code",
   "execution_count": 502,
   "id": "deae2ad9",
   "metadata": {
    "execution": {
     "iopub.execute_input": "2022-11-19T12:36:51.711171Z",
     "iopub.status.busy": "2022-11-19T12:36:51.711020Z",
     "iopub.status.idle": "2022-11-19T12:36:59.607161Z",
     "shell.execute_reply": "2022-11-19T12:36:59.606549Z",
     "shell.execute_reply.started": "2022-11-19T12:36:51.711153Z"
    },
    "tags": []
   },
   "outputs": [],
   "source": [
    "Result_final=data.copy()\n",
    "Result_final=Result_final[pos_dir_var+neg_dir_var]\n",
    "from sklearn.preprocessing import MinMaxScaler\n",
    "scaler = MinMaxScaler()\n",
    "Result_final = pd.DataFrame(scaler.fit_transform(Result_final), columns=Result_final.columns)\n",
    "\n",
    "Result_final['PROD'] = Result_final[pos_dir_var+neg_dir_var].apply(lambda row: np.prod(row), axis = 1)\n",
    "Result_final['MAX'] = Result_final[pos_dir_var+neg_dir_var].apply(lambda row: np.max(row), axis = 1)\n",
    "Result_final['MIN'] = Result_final[pos_dir_var+neg_dir_var].apply(lambda row: np.min(row), axis = 1)\n",
    "Result_final['SUM'] = Result_final[pos_dir_var+neg_dir_var].apply(lambda row: np.sum(row), axis = 1)"
   ]
  },
  {
   "cell_type": "code",
   "execution_count": 503,
   "id": "f89d19fe",
   "metadata": {
    "execution": {
     "iopub.execute_input": "2022-11-19T12:36:59.608396Z",
     "iopub.status.busy": "2022-11-19T12:36:59.608184Z",
     "iopub.status.idle": "2022-11-19T12:36:59.615668Z",
     "shell.execute_reply": "2022-11-19T12:36:59.615086Z",
     "shell.execute_reply.started": "2022-11-19T12:36:59.608372Z"
    },
    "tags": []
   },
   "outputs": [],
   "source": [
    "temp_res=result[['unweighted_score','WPM','WSM',target]]\n",
    "\n",
    "Result_final = pd.concat([Result_final,temp_res], axis=1)"
   ]
  },
  {
   "cell_type": "code",
   "execution_count": 504,
   "id": "01e1c052",
   "metadata": {
    "execution": {
     "iopub.execute_input": "2022-11-19T12:36:59.616675Z",
     "iopub.status.busy": "2022-11-19T12:36:59.616497Z",
     "iopub.status.idle": "2022-11-19T12:36:59.642475Z",
     "shell.execute_reply": "2022-11-19T12:36:59.641952Z",
     "shell.execute_reply.started": "2022-11-19T12:36:59.616654Z"
    },
    "tags": []
   },
   "outputs": [],
   "source": [
    "Res_check=Result_final.iloc[:,feature_count:]"
   ]
  },
  {
   "cell_type": "code",
   "execution_count": 505,
   "id": "5b0401b1",
   "metadata": {
    "execution": {
     "iopub.execute_input": "2022-11-19T12:36:59.643431Z",
     "iopub.status.busy": "2022-11-19T12:36:59.643241Z",
     "iopub.status.idle": "2022-11-19T12:36:59.676590Z",
     "shell.execute_reply": "2022-11-19T12:36:59.676034Z",
     "shell.execute_reply.started": "2022-11-19T12:36:59.643410Z"
    },
    "tags": []
   },
   "outputs": [
    {
     "data": {
      "text/html": [
       "<div>\n",
       "<style scoped>\n",
       "    .dataframe tbody tr th:only-of-type {\n",
       "        vertical-align: middle;\n",
       "    }\n",
       "\n",
       "    .dataframe tbody tr th {\n",
       "        vertical-align: top;\n",
       "    }\n",
       "\n",
       "    .dataframe thead th {\n",
       "        text-align: right;\n",
       "    }\n",
       "</style>\n",
       "<table border=\"1\" class=\"dataframe\">\n",
       "  <thead>\n",
       "    <tr style=\"text-align: right;\">\n",
       "      <th></th>\n",
       "      <th>PROD</th>\n",
       "      <th>MAX</th>\n",
       "      <th>MIN</th>\n",
       "      <th>SUM</th>\n",
       "      <th>unweighted_score</th>\n",
       "      <th>WPM</th>\n",
       "      <th>WSM</th>\n",
       "      <th>PM2.5</th>\n",
       "    </tr>\n",
       "  </thead>\n",
       "  <tbody>\n",
       "    <tr>\n",
       "      <th>0</th>\n",
       "      <td>0.0</td>\n",
       "      <td>0.980710</td>\n",
       "      <td>0.0</td>\n",
       "      <td>1.968920</td>\n",
       "      <td>0.000902</td>\n",
       "      <td>0.240185</td>\n",
       "      <td>0.398877</td>\n",
       "      <td>9.0</td>\n",
       "    </tr>\n",
       "    <tr>\n",
       "      <th>1</th>\n",
       "      <td>0.0</td>\n",
       "      <td>0.981190</td>\n",
       "      <td>0.0</td>\n",
       "      <td>2.142431</td>\n",
       "      <td>0.000524</td>\n",
       "      <td>0.200316</td>\n",
       "      <td>0.381181</td>\n",
       "      <td>11.0</td>\n",
       "    </tr>\n",
       "    <tr>\n",
       "      <th>2</th>\n",
       "      <td>0.0</td>\n",
       "      <td>0.981382</td>\n",
       "      <td>0.0</td>\n",
       "      <td>2.113144</td>\n",
       "      <td>0.000029</td>\n",
       "      <td>0.127993</td>\n",
       "      <td>0.337260</td>\n",
       "      <td>8.0</td>\n",
       "    </tr>\n",
       "    <tr>\n",
       "      <th>3</th>\n",
       "      <td>0.0</td>\n",
       "      <td>0.982246</td>\n",
       "      <td>0.0</td>\n",
       "      <td>1.760143</td>\n",
       "      <td>0.000029</td>\n",
       "      <td>0.203681</td>\n",
       "      <td>0.430552</td>\n",
       "      <td>8.0</td>\n",
       "    </tr>\n",
       "    <tr>\n",
       "      <th>4</th>\n",
       "      <td>0.0</td>\n",
       "      <td>0.982821</td>\n",
       "      <td>0.0</td>\n",
       "      <td>1.804545</td>\n",
       "      <td>0.000029</td>\n",
       "      <td>0.169900</td>\n",
       "      <td>0.393107</td>\n",
       "      <td>8.0</td>\n",
       "    </tr>\n",
       "  </tbody>\n",
       "</table>\n",
       "</div>"
      ],
      "text/plain": [
       "   PROD       MAX  MIN       SUM  unweighted_score       WPM       WSM  PM2.5\n",
       "0   0.0  0.980710  0.0  1.968920          0.000902  0.240185  0.398877    9.0\n",
       "1   0.0  0.981190  0.0  2.142431          0.000524  0.200316  0.381181   11.0\n",
       "2   0.0  0.981382  0.0  2.113144          0.000029  0.127993  0.337260    8.0\n",
       "3   0.0  0.982246  0.0  1.760143          0.000029  0.203681  0.430552    8.0\n",
       "4   0.0  0.982821  0.0  1.804545          0.000029  0.169900  0.393107    8.0"
      ]
     },
     "execution_count": 505,
     "metadata": {},
     "output_type": "execute_result"
    }
   ],
   "source": [
    "Res_check.head()"
   ]
  },
  {
   "cell_type": "code",
   "execution_count": null,
   "id": "3b62a8f7-535f-4619-85f6-998ed50d2658",
   "metadata": {},
   "outputs": [],
   "source": []
  },
  {
   "cell_type": "code",
   "execution_count": null,
   "id": "6315809e-d79d-4969-b4f9-bb8374423448",
   "metadata": {},
   "outputs": [],
   "source": []
  },
  {
   "cell_type": "code",
   "execution_count": null,
   "id": "1a995a29-904d-4bef-8f2b-0a26d006b337",
   "metadata": {},
   "outputs": [],
   "source": []
  },
  {
   "cell_type": "code",
   "execution_count": 506,
   "id": "173923e3-9f14-48c5-b8ba-fd0cff4ddbed",
   "metadata": {
    "execution": {
     "iopub.execute_input": "2022-11-19T12:36:59.677486Z",
     "iopub.status.busy": "2022-11-19T12:36:59.677294Z",
     "iopub.status.idle": "2022-11-19T12:36:59.697489Z",
     "shell.execute_reply": "2022-11-19T12:36:59.697024Z",
     "shell.execute_reply.started": "2022-11-19T12:36:59.677466Z"
    },
    "tags": []
   },
   "outputs": [],
   "source": [
    "import numpy as np\n",
    "\n",
    "def normalised_kendall_tau_distance(values1, values2):\n",
    "    \"\"\"Compute the Kendall tau distance.\"\"\"\n",
    "    n = len(values1)\n",
    "    assert len(values2) == n, \"Both lists have to be of equal length\"\n",
    "    i, j = np.meshgrid(np.arange(n), np.arange(n))\n",
    "    a = np.argsort(values1)\n",
    "    b = np.argsort(values2)\n",
    "    ndisordered = np.logical_or(np.logical_and(a[i] < a[j], b[i] > b[j]), np.logical_and(a[i] > a[j], b[i] < b[j])).sum()\n",
    "    return ndisordered / (n * (n - 1))\n"
   ]
  },
  {
   "cell_type": "code",
   "execution_count": null,
   "id": "12dbc916-63c7-4d16-96a7-66b4fa5ddc36",
   "metadata": {},
   "outputs": [],
   "source": []
  },
  {
   "cell_type": "markdown",
   "id": "54bc71f9-1a9a-455e-a19a-fa0f23dc96f7",
   "metadata": {},
   "source": [
    "## spearman rho"
   ]
  },
  {
   "cell_type": "code",
   "execution_count": 507,
   "id": "293dbd9a",
   "metadata": {
    "execution": {
     "iopub.execute_input": "2022-11-19T12:36:59.698379Z",
     "iopub.status.busy": "2022-11-19T12:36:59.698197Z",
     "iopub.status.idle": "2022-11-19T12:36:59.829760Z",
     "shell.execute_reply": "2022-11-19T12:36:59.829350Z",
     "shell.execute_reply.started": "2022-11-19T12:36:59.698359Z"
    },
    "tags": []
   },
   "outputs": [
    {
     "data": {
      "text/plain": [
       "{'PROD': -0.03,\n",
       " 'MAX': -0.07,\n",
       " 'MIN': -0.03,\n",
       " 'SUM': 0.42,\n",
       " 'unweighted_score': 0.46,\n",
       " 'WPM': 0.58,\n",
       " 'WSM': 0.65}"
      ]
     },
     "execution_count": 507,
     "metadata": {},
     "output_type": "execute_result"
    }
   ],
   "source": [
    "sprearman_rho=[]\n",
    "for col in list(Res_check)[:-1]:\n",
    "    \n",
    "    data1=list(Res_check[col])\n",
    "    data2=list(Res_check[target])\n",
    "    coef, p = spearmanr(data2,data1 )\n",
    "    sprearman_rho.append(coef)\n",
    "sprearman_rho=[round(x, 2) for x in sprearman_rho]\n",
    "dict(zip(list(Res_check),sprearman_rho))"
   ]
  },
  {
   "cell_type": "code",
   "execution_count": null,
   "id": "b2d2c9d6-f3b3-4c6d-9b0c-d9fad6b15e5b",
   "metadata": {},
   "outputs": [],
   "source": []
  },
  {
   "cell_type": "code",
   "execution_count": null,
   "id": "79c8950a-9a61-4295-a5d9-8181af214c2d",
   "metadata": {},
   "outputs": [],
   "source": []
  },
  {
   "cell_type": "code",
   "execution_count": 508,
   "id": "dfb300eb",
   "metadata": {
    "execution": {
     "iopub.execute_input": "2022-11-19T12:36:59.830694Z",
     "iopub.status.busy": "2022-11-19T12:36:59.830531Z",
     "iopub.status.idle": "2022-11-19T12:36:59.833234Z",
     "shell.execute_reply": "2022-11-19T12:36:59.832753Z",
     "shell.execute_reply.started": "2022-11-19T12:36:59.830675Z"
    },
    "tags": []
   },
   "outputs": [],
   "source": [
    "# kendal_tau=[]\n",
    "# for col in list(Res_check)[:-1]:\n",
    "\n",
    "#     data1= list(Res_check[col])\n",
    "#     data2= list(Res_check[target])\n",
    "#     coef = normalised_kendall_tau_distance(data2,data1 )\n",
    "#     kendal_tau.append(coef)\n",
    "#     kendal_tau=[round(x, 2) for x in kendal_tau]\n",
    "# dict(zip(list(Res_check), kendal_tau ))"
   ]
  },
  {
   "cell_type": "code",
   "execution_count": null,
   "id": "e65062aa-9222-4892-a6be-8b91c0b3c068",
   "metadata": {},
   "outputs": [],
   "source": []
  },
  {
   "cell_type": "code",
   "execution_count": null,
   "id": "9de36f0a-c21a-4aeb-a773-d5da0f2b1b9b",
   "metadata": {},
   "outputs": [],
   "source": []
  },
  {
   "cell_type": "markdown",
   "id": "4208974f-e1b2-4985-9f0b-4aae62bd1bc4",
   "metadata": {},
   "source": [
    "## Kendal_tau "
   ]
  },
  {
   "cell_type": "code",
   "execution_count": 509,
   "id": "b24d2c28-4d67-4a86-b1de-3264a10f2ca9",
   "metadata": {
    "execution": {
     "iopub.execute_input": "2022-11-19T12:36:59.834119Z",
     "iopub.status.busy": "2022-11-19T12:36:59.833957Z",
     "iopub.status.idle": "2022-11-19T12:36:59.967697Z",
     "shell.execute_reply": "2022-11-19T12:36:59.967233Z",
     "shell.execute_reply.started": "2022-11-19T12:36:59.834100Z"
    },
    "tags": []
   },
   "outputs": [
    {
     "data": {
      "text/plain": [
       "{'PROD': -0.02,\n",
       " 'MAX': -0.04,\n",
       " 'MIN': -0.02,\n",
       " 'SUM': 0.29,\n",
       " 'unweighted_score': 0.32,\n",
       " 'WPM': 0.41,\n",
       " 'WSM': 0.46}"
      ]
     },
     "execution_count": 509,
     "metadata": {},
     "output_type": "execute_result"
    }
   ],
   "source": [
    "from scipy.stats import kendalltau\n",
    "kendal_tau=[]\n",
    "for col in list(Res_check)[:-1]:\n",
    "\n",
    "    data1= list(Res_check[col])\n",
    "    data2= list(Res_check[target])\n",
    "    tau,_ = kendalltau(data2,data1 )\n",
    "    kendal_tau.append(tau)\n",
    "kendal_tau=[round(x, 2) for x in kendal_tau]\n",
    "dict(zip(list(Res_check), kendal_tau ))"
   ]
  },
  {
   "cell_type": "code",
   "execution_count": 510,
   "id": "f78b6b6f-c832-4a61-ba5e-ba57e479187f",
   "metadata": {
    "execution": {
     "iopub.execute_input": "2022-11-19T12:36:59.968643Z",
     "iopub.status.busy": "2022-11-19T12:36:59.968481Z",
     "iopub.status.idle": "2022-11-19T12:36:59.972633Z",
     "shell.execute_reply": "2022-11-19T12:36:59.972163Z",
     "shell.execute_reply.started": "2022-11-19T12:36:59.968624Z"
    },
    "tags": []
   },
   "outputs": [
    {
     "data": {
      "text/plain": [
       "[-0.02, -0.04, -0.02, 0.29, 0.32, 0.41, 0.46]"
      ]
     },
     "execution_count": 510,
     "metadata": {},
     "output_type": "execute_result"
    }
   ],
   "source": [
    "kendal_tau"
   ]
  },
  {
   "cell_type": "code",
   "execution_count": 587,
   "id": "ff3f1cb2-42f0-4cec-b762-200282d8c885",
   "metadata": {
    "execution": {
     "iopub.execute_input": "2022-11-20T09:48:07.270252Z",
     "iopub.status.busy": "2022-11-20T09:48:07.269686Z",
     "iopub.status.idle": "2022-11-20T09:48:07.555251Z",
     "shell.execute_reply": "2022-11-20T09:48:07.554714Z",
     "shell.execute_reply.started": "2022-11-20T09:48:07.270221Z"
    },
    "tags": []
   },
   "outputs": [
    {
     "data": {
      "image/png": "[encoded data removed]",
      "text/plain": [
       "<Figure size 1100x700 with 1 Axes>"
      ]
     },
     "metadata": {},
     "output_type": "display_data"
    }
   ],
   "source": [
    "import matplotlib.pyplot as plt\n",
    "import numpy as np\n",
    "\n",
    "import matplotlib.pyplot as plt\n",
    "plt.rcParams[\"figure.figsize\"] = (11,7)\n",
    "\n",
    "labels = ['PROD', 'MAX', 'MIN', 'SUM', 'UNWEIGHTED_SCORE','WPM','WSM','REG']\n",
    "Spearman_rho = sprearman_rho+[0.85]\n",
    "Kendal_tau = kendal_tau+[0.675]\n",
    "\n",
    "x = np.arange(len(labels))  # the label locations\n",
    "width = 0.32  # the width of the bars\n",
    "\n",
    "fig, ax = plt.subplots()\n",
    "rects1 = ax.bar(x - width/2, Spearman_rho, width, label='Spearman_rho')\n",
    "rects2 = ax.bar(x + width/2, Kendal_tau, width, label='Kendal_tau')\n",
    "\n",
    "# Add some text for labels, title and custom x-axis tick labels, etc.\n",
    "ax.set_ylabel('Scores')\n",
    "ax.set_title('Scores by Methods')\n",
    "ax.set_xticks(x, labels)\n",
    "ax.legend()\n",
    "\n",
    "ax.bar_label(rects1, padding=3)\n",
    "ax.bar_label(rects2, padding=3)\n",
    "\n",
    "fig.tight_layout()\n",
    "\n",
    "plt.show()"
   ]
  },
  {
   "cell_type": "code",
   "execution_count": null,
   "id": "8afddee4-616c-4334-a936-741b11516864",
   "metadata": {},
   "outputs": [],
   "source": []
  },
  {
   "cell_type": "code",
   "execution_count": null,
   "id": "214f5d30-bc40-4571-8423-d8ef64e91214",
   "metadata": {},
   "outputs": [],
   "source": []
  },
  {
   "cell_type": "code",
   "execution_count": 512,
   "id": "f0012661-0078-464f-8d38-50f872b284f2",
   "metadata": {
    "execution": {
     "iopub.execute_input": "2022-11-19T12:37:00.261934Z",
     "iopub.status.busy": "2022-11-19T12:37:00.261753Z",
     "iopub.status.idle": "2022-11-19T12:37:00.268198Z",
     "shell.execute_reply": "2022-11-19T12:37:00.267687Z",
     "shell.execute_reply.started": "2022-11-19T12:37:00.261913Z"
    },
    "tags": []
   },
   "outputs": [],
   "source": [
    "Result_final=data.copy()\n",
    "Result_final=Result_final[pos_dir_var+neg_dir_var]\n",
    "# from sklearn.preprocessing import MinMaxScaler\n",
    "# scaler = MinMaxScaler()\n",
    "# Result_final = pd.DataFrame(scaler.fit_transform(Result_final), columns=Result_final.columns)\n",
    "Result_final['target']= data[target]"
   ]
  },
  {
   "cell_type": "code",
   "execution_count": 513,
   "id": "696dd066-fc28-4bd1-a985-64b17fd16d05",
   "metadata": {
    "execution": {
     "iopub.execute_input": "2022-11-19T12:37:00.269185Z",
     "iopub.status.busy": "2022-11-19T12:37:00.269020Z",
     "iopub.status.idle": "2022-11-19T12:37:00.303381Z",
     "shell.execute_reply": "2022-11-19T12:37:00.302700Z",
     "shell.execute_reply.started": "2022-11-19T12:37:00.269165Z"
    },
    "tags": []
   },
   "outputs": [
    {
     "data": {
      "text/html": [
       "<div>\n",
       "<style scoped>\n",
       "    .dataframe tbody tr th:only-of-type {\n",
       "        vertical-align: middle;\n",
       "    }\n",
       "\n",
       "    .dataframe tbody tr th {\n",
       "        vertical-align: top;\n",
       "    }\n",
       "\n",
       "    .dataframe thead th {\n",
       "        text-align: right;\n",
       "    }\n",
       "</style>\n",
       "<table border=\"1\" class=\"dataframe\">\n",
       "  <thead>\n",
       "    <tr style=\"text-align: right;\">\n",
       "      <th></th>\n",
       "      <th>SO2</th>\n",
       "      <th>NO2</th>\n",
       "      <th>CO</th>\n",
       "      <th>PRES</th>\n",
       "      <th>DEWP</th>\n",
       "      <th>O3</th>\n",
       "      <th>TEMP</th>\n",
       "      <th>RAIN</th>\n",
       "      <th>WSPM</th>\n",
       "      <th>target</th>\n",
       "    </tr>\n",
       "  </thead>\n",
       "  <tbody>\n",
       "    <tr>\n",
       "      <th>0</th>\n",
       "      <td>6.0</td>\n",
       "      <td>17.0</td>\n",
       "      <td>200.0</td>\n",
       "      <td>1021.9</td>\n",
       "      <td>-19.0</td>\n",
       "      <td>62.0</td>\n",
       "      <td>0.3</td>\n",
       "      <td>0.0</td>\n",
       "      <td>2.0</td>\n",
       "      <td>9.0</td>\n",
       "    </tr>\n",
       "    <tr>\n",
       "      <th>1</th>\n",
       "      <td>7.0</td>\n",
       "      <td>14.0</td>\n",
       "      <td>200.0</td>\n",
       "      <td>1022.4</td>\n",
       "      <td>-19.3</td>\n",
       "      <td>66.0</td>\n",
       "      <td>-0.1</td>\n",
       "      <td>0.0</td>\n",
       "      <td>4.4</td>\n",
       "      <td>11.0</td>\n",
       "    </tr>\n",
       "    <tr>\n",
       "      <th>2</th>\n",
       "      <td>0.0</td>\n",
       "      <td>16.0</td>\n",
       "      <td>200.0</td>\n",
       "      <td>1022.6</td>\n",
       "      <td>-19.7</td>\n",
       "      <td>59.0</td>\n",
       "      <td>-0.6</td>\n",
       "      <td>0.0</td>\n",
       "      <td>4.7</td>\n",
       "      <td>8.0</td>\n",
       "    </tr>\n",
       "    <tr>\n",
       "      <th>3</th>\n",
       "      <td>3.0</td>\n",
       "      <td>16.0</td>\n",
       "      <td>0.0</td>\n",
       "      <td>1023.5</td>\n",
       "      <td>-20.9</td>\n",
       "      <td>0.0</td>\n",
       "      <td>-0.7</td>\n",
       "      <td>0.0</td>\n",
       "      <td>2.6</td>\n",
       "      <td>8.0</td>\n",
       "    </tr>\n",
       "    <tr>\n",
       "      <th>4</th>\n",
       "      <td>3.0</td>\n",
       "      <td>0.0</td>\n",
       "      <td>300.0</td>\n",
       "      <td>1024.1</td>\n",
       "      <td>-21.7</td>\n",
       "      <td>36.0</td>\n",
       "      <td>-0.9</td>\n",
       "      <td>0.0</td>\n",
       "      <td>2.5</td>\n",
       "      <td>8.0</td>\n",
       "    </tr>\n",
       "  </tbody>\n",
       "</table>\n",
       "</div>"
      ],
      "text/plain": [
       "   SO2   NO2     CO    PRES  DEWP    O3  TEMP  RAIN  WSPM  target\n",
       "0  6.0  17.0  200.0  1021.9 -19.0  62.0   0.3   0.0   2.0     9.0\n",
       "1  7.0  14.0  200.0  1022.4 -19.3  66.0  -0.1   0.0   4.4    11.0\n",
       "2  0.0  16.0  200.0  1022.6 -19.7  59.0  -0.6   0.0   4.7     8.0\n",
       "3  3.0  16.0    0.0  1023.5 -20.9   0.0  -0.7   0.0   2.6     8.0\n",
       "4  3.0   0.0  300.0  1024.1 -21.7  36.0  -0.9   0.0   2.5     8.0"
      ]
     },
     "execution_count": 513,
     "metadata": {},
     "output_type": "execute_result"
    }
   ],
   "source": [
    "Result_final.head()"
   ]
  },
  {
   "cell_type": "code",
   "execution_count": 523,
   "id": "3574dcc4-7e6d-4e6a-85b3-c4e9ca2a39ed",
   "metadata": {
    "execution": {
     "iopub.execute_input": "2022-11-20T08:48:52.067392Z",
     "iopub.status.busy": "2022-11-20T08:48:52.066464Z",
     "iopub.status.idle": "2022-11-20T08:48:52.071511Z",
     "shell.execute_reply": "2022-11-20T08:48:52.070863Z",
     "shell.execute_reply.started": "2022-11-20T08:48:52.067341Z"
    },
    "tags": []
   },
   "outputs": [],
   "source": [
    "from sklearn import model_selection\n",
    "from sklearn.linear_model import LinearRegression\n",
    "from sklearn.linear_model import Ridge\n",
    "from sklearn.linear_model import Lasso\n",
    "from sklearn.linear_model import ElasticNet\n",
    "from sklearn.metrics import r2_score\n",
    "from sklearn.model_selection import train_test_split\n",
    "from sklearn.metrics import mean_squared_error\n",
    "from math import sqrt"
   ]
  },
  {
   "cell_type": "code",
   "execution_count": 524,
   "id": "e7c20d29-7278-4972-892d-ae6c11f7ea65",
   "metadata": {
    "execution": {
     "iopub.execute_input": "2022-11-20T08:48:53.097008Z",
     "iopub.status.busy": "2022-11-20T08:48:53.096800Z",
     "iopub.status.idle": "2022-11-20T08:48:53.106148Z",
     "shell.execute_reply": "2022-11-20T08:48:53.105566Z",
     "shell.execute_reply.started": "2022-11-20T08:48:53.096984Z"
    },
    "tags": []
   },
   "outputs": [
    {
     "name": "stdout",
     "output_type": "stream",
     "text": [
      "(13740, 9)\n",
      "(20611, 9)\n"
     ]
    }
   ],
   "source": [
    "X = Result_final[pos_dir_var+neg_dir_var].values\n",
    "y = Result_final['target'].values\n",
    "\n",
    "X_train, X_test, y_train, y_test = train_test_split(X, y, test_size=0.60, random_state=40)\n",
    "print(X_train.shape); print(X_test.shape)"
   ]
  },
  {
   "cell_type": "code",
   "execution_count": 526,
   "id": "618f51bf-49d0-4527-b11f-88fe4887e35d",
   "metadata": {
    "execution": {
     "iopub.execute_input": "2022-11-20T08:49:17.244137Z",
     "iopub.status.busy": "2022-11-20T08:49:17.243887Z",
     "iopub.status.idle": "2022-11-20T08:49:17.250028Z",
     "shell.execute_reply": "2022-11-20T08:49:17.249302Z",
     "shell.execute_reply.started": "2022-11-20T08:49:17.244113Z"
    },
    "tags": []
   },
   "outputs": [
    {
     "data": {
      "text/plain": [
       "array([[ 6.00e+00,  1.70e+01,  2.00e+02, ...,  3.00e-01,  0.00e+00,\n",
       "         2.00e+00],\n",
       "       [ 7.00e+00,  1.40e+01,  2.00e+02, ..., -1.00e-01,  0.00e+00,\n",
       "         4.40e+00],\n",
       "       [ 0.00e+00,  1.60e+01,  2.00e+02, ..., -6.00e-01,  0.00e+00,\n",
       "         4.70e+00],\n",
       "       ...,\n",
       "       [ 4.00e+00,  3.80e+01,  5.00e+02, ...,  1.08e+01,  0.00e+00,\n",
       "         1.10e+00],\n",
       "       [ 4.00e+00,  3.00e+01,  4.00e+02, ...,  1.05e+01,  0.00e+00,\n",
       "         1.20e+00],\n",
       "       [ 4.00e+00,  3.80e+01,  6.00e+02, ...,  8.60e+00,  0.00e+00,\n",
       "         1.30e+00]])"
      ]
     },
     "execution_count": 526,
     "metadata": {},
     "output_type": "execute_result"
    }
   ],
   "source": [
    "X"
   ]
  },
  {
   "cell_type": "code",
   "execution_count": 527,
   "id": "56babc17-7e01-4a38-b29c-b895fd341e17",
   "metadata": {
    "execution": {
     "iopub.execute_input": "2022-11-20T08:49:35.412514Z",
     "iopub.status.busy": "2022-11-20T08:49:35.412204Z",
     "iopub.status.idle": "2022-11-20T08:49:35.428108Z",
     "shell.execute_reply": "2022-11-20T08:49:35.427479Z",
     "shell.execute_reply.started": "2022-11-20T08:49:35.412487Z"
    }
   },
   "outputs": [
    {
     "data": {
      "text/html": [
       "<div>\n",
       "<style scoped>\n",
       "    .dataframe tbody tr th:only-of-type {\n",
       "        vertical-align: middle;\n",
       "    }\n",
       "\n",
       "    .dataframe tbody tr th {\n",
       "        vertical-align: top;\n",
       "    }\n",
       "\n",
       "    .dataframe thead th {\n",
       "        text-align: right;\n",
       "    }\n",
       "</style>\n",
       "<table border=\"1\" class=\"dataframe\">\n",
       "  <thead>\n",
       "    <tr style=\"text-align: right;\">\n",
       "      <th></th>\n",
       "      <th>SO2</th>\n",
       "      <th>NO2</th>\n",
       "      <th>CO</th>\n",
       "      <th>PRES</th>\n",
       "      <th>DEWP</th>\n",
       "      <th>O3</th>\n",
       "      <th>TEMP</th>\n",
       "      <th>RAIN</th>\n",
       "      <th>WSPM</th>\n",
       "    </tr>\n",
       "  </thead>\n",
       "  <tbody>\n",
       "    <tr>\n",
       "      <th>0</th>\n",
       "      <td>6.0</td>\n",
       "      <td>17.0</td>\n",
       "      <td>200.0</td>\n",
       "      <td>1021.9</td>\n",
       "      <td>-19.0</td>\n",
       "      <td>62.0</td>\n",
       "      <td>0.3</td>\n",
       "      <td>0.0</td>\n",
       "      <td>2.0</td>\n",
       "    </tr>\n",
       "    <tr>\n",
       "      <th>1</th>\n",
       "      <td>7.0</td>\n",
       "      <td>14.0</td>\n",
       "      <td>200.0</td>\n",
       "      <td>1022.4</td>\n",
       "      <td>-19.3</td>\n",
       "      <td>66.0</td>\n",
       "      <td>-0.1</td>\n",
       "      <td>0.0</td>\n",
       "      <td>4.4</td>\n",
       "    </tr>\n",
       "    <tr>\n",
       "      <th>2</th>\n",
       "      <td>0.0</td>\n",
       "      <td>16.0</td>\n",
       "      <td>200.0</td>\n",
       "      <td>1022.6</td>\n",
       "      <td>-19.7</td>\n",
       "      <td>59.0</td>\n",
       "      <td>-0.6</td>\n",
       "      <td>0.0</td>\n",
       "      <td>4.7</td>\n",
       "    </tr>\n",
       "    <tr>\n",
       "      <th>3</th>\n",
       "      <td>3.0</td>\n",
       "      <td>16.0</td>\n",
       "      <td>0.0</td>\n",
       "      <td>1023.5</td>\n",
       "      <td>-20.9</td>\n",
       "      <td>0.0</td>\n",
       "      <td>-0.7</td>\n",
       "      <td>0.0</td>\n",
       "      <td>2.6</td>\n",
       "    </tr>\n",
       "    <tr>\n",
       "      <th>4</th>\n",
       "      <td>3.0</td>\n",
       "      <td>0.0</td>\n",
       "      <td>300.0</td>\n",
       "      <td>1024.1</td>\n",
       "      <td>-21.7</td>\n",
       "      <td>36.0</td>\n",
       "      <td>-0.9</td>\n",
       "      <td>0.0</td>\n",
       "      <td>2.5</td>\n",
       "    </tr>\n",
       "  </tbody>\n",
       "</table>\n",
       "</div>"
      ],
      "text/plain": [
       "   SO2   NO2     CO    PRES  DEWP    O3  TEMP  RAIN  WSPM\n",
       "0  6.0  17.0  200.0  1021.9 -19.0  62.0   0.3   0.0   2.0\n",
       "1  7.0  14.0  200.0  1022.4 -19.3  66.0  -0.1   0.0   4.4\n",
       "2  0.0  16.0  200.0  1022.6 -19.7  59.0  -0.6   0.0   4.7\n",
       "3  3.0  16.0    0.0  1023.5 -20.9   0.0  -0.7   0.0   2.6\n",
       "4  3.0   0.0  300.0  1024.1 -21.7  36.0  -0.9   0.0   2.5"
      ]
     },
     "execution_count": 527,
     "metadata": {},
     "output_type": "execute_result"
    }
   ],
   "source": [
    "Result_final[pos_dir_var+neg_dir_var].head()"
   ]
  },
  {
   "cell_type": "code",
   "execution_count": 553,
   "id": "206e73d5-6016-48be-9dd8-b019b8bdd48a",
   "metadata": {
    "execution": {
     "iopub.execute_input": "2022-11-20T09:28:50.118568Z",
     "iopub.status.busy": "2022-11-20T09:28:50.117729Z",
     "iopub.status.idle": "2022-11-20T09:28:50.202296Z",
     "shell.execute_reply": "2022-11-20T09:28:50.201259Z",
     "shell.execute_reply.started": "2022-11-20T09:28:50.118533Z"
    },
    "tags": []
   },
   "outputs": [
    {
     "name": "stdout",
     "output_type": "stream",
     "text": [
      "[0.35431406 0.43292374 0.04029498 0.         0.77788467 0.03902432\n",
      " 0.         0.         0.        ] 1.644441774975026 83000971.90597379\n"
     ]
    }
   ],
   "source": [
    "import numpy as np\n",
    "from scipy.optimize import minimize \n",
    "from scipy.optimize import nnls \n",
    "\n",
    "#Define problem\n",
    "A = Result_final[pos_dir_var+neg_dir_var].values\n",
    "\n",
    "b = Result_final['target'].values\n",
    "\n",
    "#Use nnls to get initial guess\n",
    "x0, rnorm = nnls(A,b)\n",
    "\n",
    "#Define minimisation function\n",
    "def fn(x, A, b):\n",
    "    return np.sum(np.square((A.dot(x) - b)))\n",
    "\n",
    "\n",
    "#Define constraints and bounds\n",
    "cons = {'type': 'eq', 'fun': lambda x:  np.sum(x)-1}\n",
    "bounds = [[0., None],[0., None],[0., None],[0., None],[0., None],[0., None],[0., None],[0., None],[0., None]]\n",
    "\n",
    "#Call minimisation subject to these values\n",
    "minout = minimize(fn, x0, args=(A, b), method='SLSQP',bounds=bounds,constraints=cons)\n",
    "x = minout.x\n",
    "\n",
    "print(x,x.sum(),fn(x,A,b))"
   ]
  },
  {
   "cell_type": "code",
   "execution_count": 555,
   "id": "8eba8462-f590-43f7-9536-22a6a94eef7b",
   "metadata": {
    "execution": {
     "iopub.execute_input": "2022-11-20T09:29:51.066345Z",
     "iopub.status.busy": "2022-11-20T09:29:51.065779Z",
     "iopub.status.idle": "2022-11-20T09:29:51.071078Z",
     "shell.execute_reply": "2022-11-20T09:29:51.070563Z",
     "shell.execute_reply.started": "2022-11-20T09:29:51.066299Z"
    },
    "tags": []
   },
   "outputs": [
    {
     "data": {
      "text/plain": [
       "array([0.35431406, 0.43292374, 0.04029498, 0.        , 0.77788467,\n",
       "       0.03902432, 0.        , 0.        , 0.        ])"
      ]
     },
     "execution_count": 555,
     "metadata": {},
     "output_type": "execute_result"
    }
   ],
   "source": [
    "minout.x"
   ]
  },
  {
   "cell_type": "code",
   "execution_count": null,
   "id": "8d2b3328-4d63-4b54-b2d4-6bb23a9805ea",
   "metadata": {},
   "outputs": [],
   "source": []
  },
  {
   "cell_type": "code",
   "execution_count": null,
   "id": "701e9cbf-f5fb-44b5-9d07-fd28efa88cf4",
   "metadata": {},
   "outputs": [],
   "source": []
  },
  {
   "cell_type": "code",
   "execution_count": null,
   "id": "d0954ea4-d74a-457d-b25e-c90930878c12",
   "metadata": {},
   "outputs": [],
   "source": []
  },
  {
   "cell_type": "code",
   "execution_count": null,
   "id": "392f6a39-5ce5-4d50-a82d-8a2622154913",
   "metadata": {},
   "outputs": [],
   "source": []
  },
  {
   "cell_type": "code",
   "execution_count": 596,
   "id": "400ae115-872f-48ca-b091-48455b7058df",
   "metadata": {
    "execution": {
     "iopub.execute_input": "2022-11-20T09:55:12.066573Z",
     "iopub.status.busy": "2022-11-20T09:55:12.066288Z",
     "iopub.status.idle": "2022-11-20T09:55:12.076763Z",
     "shell.execute_reply": "2022-11-20T09:55:12.076184Z",
     "shell.execute_reply.started": "2022-11-20T09:55:12.066546Z"
    },
    "tags": []
   },
   "outputs": [
    {
     "name": "stdout",
     "output_type": "stream",
     "text": [
      "(24045, 9)\n",
      "(10306, 9)\n"
     ]
    }
   ],
   "source": [
    "X = Result_final[pos_dir_var+neg_dir_var].values\n",
    "y = Result_final['target'].values\n",
    "\n",
    "X_train, X_test, y_train, y_test = train_test_split(X, y, test_size=0.30, random_state=40)\n",
    "print(X_train.shape); print(X_test.shape)"
   ]
  },
  {
   "cell_type": "code",
   "execution_count": 597,
   "id": "65b92537-3a9a-40f0-abed-94807038ab9c",
   "metadata": {
    "execution": {
     "iopub.execute_input": "2022-11-20T09:55:13.065687Z",
     "iopub.status.busy": "2022-11-20T09:55:13.064959Z",
     "iopub.status.idle": "2022-11-20T09:55:13.103633Z",
     "shell.execute_reply": "2022-11-20T09:55:13.103057Z",
     "shell.execute_reply.started": "2022-11-20T09:55:13.065653Z"
    },
    "tags": []
   },
   "outputs": [
    {
     "name": "stdout",
     "output_type": "stream",
     "text": [
      "NNLS R2 score 0.684653169194609\n",
      "0.8548164338136613 0.6745341674220113\n"
     ]
    },
    {
     "data": {
      "text/plain": [
       "2304.2781091884676"
      ]
     },
     "execution_count": 597,
     "metadata": {},
     "output_type": "execute_result"
    }
   ],
   "source": [
    "from sklearn.linear_model import LinearRegression\n",
    "\n",
    "reg_nnls = LinearRegression(positive=True)\n",
    "y_pred_nnls = reg_nnls.fit(X_train, y_train).predict(X_test)\n",
    "r2_score_nnls = r2_score(y_test, y_pred_nnls)\n",
    "print(\"NNLS R2 score\", r2_score_nnls)\n",
    "coef, p = spearmanr(y_pred_nnls, y_test)\n",
    "tau,_ = kendalltau(y_pred_nnls, y_test)\n",
    "\n",
    "print(coef,tau)\n",
    "\n",
    "from sklearn.metrics import mean_squared_error\n",
    "mean_squared_error(y_test,y_pred_nnls)"
   ]
  },
  {
   "cell_type": "code",
   "execution_count": 598,
   "id": "2f29455a-0064-4692-990f-7956b8fc5a14",
   "metadata": {
    "execution": {
     "iopub.execute_input": "2022-11-20T09:55:19.066674Z",
     "iopub.status.busy": "2022-11-20T09:55:19.065915Z",
     "iopub.status.idle": "2022-11-20T09:55:19.071421Z",
     "shell.execute_reply": "2022-11-20T09:55:19.070861Z",
     "shell.execute_reply.started": "2022-11-20T09:55:19.066643Z"
    },
    "tags": []
   },
   "outputs": [
    {
     "data": {
      "text/plain": [
       "4.732891792355581"
      ]
     },
     "execution_count": 598,
     "metadata": {},
     "output_type": "execute_result"
    }
   ],
   "source": [
    "reg_nnls.coef_.sum()"
   ]
  },
  {
   "cell_type": "code",
   "execution_count": 599,
   "id": "47b76648-84c2-4f17-837f-5e0a6ecad8a2",
   "metadata": {
    "execution": {
     "iopub.execute_input": "2022-11-20T09:55:21.119928Z",
     "iopub.status.busy": "2022-11-20T09:55:21.119088Z",
     "iopub.status.idle": "2022-11-20T09:55:21.202827Z",
     "shell.execute_reply": "2022-11-20T09:55:21.201795Z",
     "shell.execute_reply.started": "2022-11-20T09:55:21.119890Z"
    },
    "tags": []
   },
   "outputs": [
    {
     "name": "stdout",
     "output_type": "stream",
     "text": [
      "OLS R2 score 0.6937353966952639\n",
      "0.8548164338136613 0.6745341674220113\n"
     ]
    }
   ],
   "source": [
    "reg_ols = LinearRegression()\n",
    "y_pred_ols = reg_ols.fit(X_train, y_train).predict(X_test)\n",
    "r2_score_ols = r2_score(y_test, y_pred_ols)\n",
    "print(\"OLS R2 score\", r2_score_ols)\n",
    "coef, p = spearmanr(y_pred_nnls, y_test)\n",
    "tau,_ = kendalltau(y_pred_nnls, y_test)\n",
    "print(coef,tau)"
   ]
  },
  {
   "cell_type": "code",
   "execution_count": 600,
   "id": "d14dc7ca-b3d3-4b4f-b130-b1875eaedc84",
   "metadata": {
    "execution": {
     "iopub.execute_input": "2022-11-20T09:55:24.066800Z",
     "iopub.status.busy": "2022-11-20T09:55:24.066205Z",
     "iopub.status.idle": "2022-11-20T09:55:24.072601Z",
     "shell.execute_reply": "2022-11-20T09:55:24.071975Z",
     "shell.execute_reply.started": "2022-11-20T09:55:24.066770Z"
    },
    "tags": []
   },
   "outputs": [
    {
     "data": {
      "text/plain": [
       "2304.2781091884676"
      ]
     },
     "execution_count": 600,
     "metadata": {},
     "output_type": "execute_result"
    }
   ],
   "source": [
    "from sklearn.metrics import mean_squared_error\n",
    "mean_squared_error(y_test,y_pred_nnls)"
   ]
  },
  {
   "cell_type": "code",
   "execution_count": 602,
   "id": "53538a9a-6268-47db-b2df-59431330e528",
   "metadata": {
    "execution": {
     "iopub.execute_input": "2022-11-20T09:55:32.117922Z",
     "iopub.status.busy": "2022-11-20T09:55:32.117599Z",
     "iopub.status.idle": "2022-11-20T09:55:32.123025Z",
     "shell.execute_reply": "2022-11-20T09:55:32.122547Z",
     "shell.execute_reply.started": "2022-11-20T09:55:32.117886Z"
    },
    "tags": []
   },
   "outputs": [
    {
     "data": {
      "text/plain": [
       "48.0"
      ]
     },
     "execution_count": 602,
     "metadata": {},
     "output_type": "execute_result"
    }
   ],
   "source": [
    "np.sqrt(2304)"
   ]
  },
  {
   "cell_type": "code",
   "execution_count": null,
   "id": "57540e06-1093-49e7-8bfe-11e61df13f38",
   "metadata": {},
   "outputs": [],
   "source": []
  },
  {
   "cell_type": "code",
   "execution_count": null,
   "id": "9cd7b5f9-551d-43b6-8ae1-da894910d5b6",
   "metadata": {},
   "outputs": [],
   "source": []
  },
  {
   "cell_type": "code",
   "execution_count": null,
   "id": "54b69c81-46d8-4ca6-b5c8-58364a650bf3",
   "metadata": {},
   "outputs": [],
   "source": []
  },
  {
   "cell_type": "code",
   "execution_count": null,
   "id": "559c36e5-8ce3-4968-a4f7-3b17ebadc3a8",
   "metadata": {},
   "outputs": [],
   "source": []
  },
  {
   "cell_type": "code",
   "execution_count": null,
   "id": "8d7b75b2-ee8f-4c81-beda-5686d30f08f9",
   "metadata": {},
   "outputs": [],
   "source": []
  },
  {
   "cell_type": "code",
   "execution_count": null,
   "id": "0c213bdf-660d-4159-b2c5-0bf95aa5b07d",
   "metadata": {},
   "outputs": [],
   "source": []
  },
  {
   "cell_type": "code",
   "execution_count": null,
   "id": "12b61d8f-0672-4d57-80fd-e63e41fc75d4",
   "metadata": {},
   "outputs": [],
   "source": []
  },
  {
   "cell_type": "code",
   "execution_count": null,
   "id": "81eadd3b-cdbe-4c27-a380-30bdc4b42d1d",
   "metadata": {},
   "outputs": [],
   "source": []
  },
  {
   "cell_type": "code",
   "execution_count": null,
   "id": "10676dfd-f89c-4049-9c0e-b1d5c0c41b5b",
   "metadata": {},
   "outputs": [],
   "source": []
  },
  {
   "cell_type": "code",
   "execution_count": null,
   "id": "08c35b38-8646-4368-9839-42d9f01526d1",
   "metadata": {},
   "outputs": [],
   "source": []
  },
  {
   "cell_type": "code",
   "execution_count": null,
   "id": "4a2ecc2f-5023-436e-b47d-afbeca0585e0",
   "metadata": {},
   "outputs": [],
   "source": []
  },
  {
   "cell_type": "code",
   "execution_count": null,
   "id": "64f29a09-b327-4913-bf10-7c8b2b2a3b3b",
   "metadata": {},
   "outputs": [],
   "source": []
  },
  {
   "cell_type": "code",
   "execution_count": null,
   "id": "94a32e8a-1e99-4aa0-b0a8-3efcc859b782",
   "metadata": {},
   "outputs": [],
   "source": []
  }
 ],
 "metadata": {
  "kernelspec": {
   "display_name": "Python 3 (ipykernel)",
   "language": "python",
   "name": "python3"
  },
  "language_info": {
   "codemirror_mode": {
    "name": "ipython",
    "version": 3
   },
   "file_extension": ".py",
   "mimetype": "text/x-python",
   "name": "python",
   "nbconvert_exporter": "python",
   "pygments_lexer": "ipython3",
   "version": "3.7.13"
  }
 },
 "nbformat": 4,
 "nbformat_minor": 5
}
